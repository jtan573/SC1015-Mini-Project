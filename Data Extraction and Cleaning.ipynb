{
 "cells": [
  {
   "cell_type": "markdown",
   "id": "9b7abd88",
   "metadata": {},
   "source": [
    "# Data Acquisition\n",
    "\n",
    "Import necessary libraries"
   ]
  },
  {
   "cell_type": "code",
   "execution_count": 154,
   "id": "f3b42d87",
   "metadata": {},
   "outputs": [],
   "source": [
    "# Basic Libraries\n",
    "import numpy as np\n",
    "import pandas as pd\n",
    "import seaborn as sb\n",
    "import matplotlib.pyplot as plt # we only need pyplot\n",
    "sb.set()"
   ]
  },
  {
   "cell_type": "markdown",
   "id": "e7395d65",
   "metadata": {},
   "source": [
    "Import the data"
   ]
  },
  {
   "cell_type": "code",
   "execution_count": 155,
   "id": "44b89c2c",
   "metadata": {},
   "outputs": [],
   "source": [
    "strokedata = pd.read_csv('healthcare-dataset-stroke-data.csv')"
   ]
  },
  {
   "cell_type": "code",
   "execution_count": 156,
   "id": "ad9f4acd",
   "metadata": {},
   "outputs": [
    {
     "data": {
      "text/html": [
       "<div>\n",
       "<style scoped>\n",
       "    .dataframe tbody tr th:only-of-type {\n",
       "        vertical-align: middle;\n",
       "    }\n",
       "\n",
       "    .dataframe tbody tr th {\n",
       "        vertical-align: top;\n",
       "    }\n",
       "\n",
       "    .dataframe thead th {\n",
       "        text-align: right;\n",
       "    }\n",
       "</style>\n",
       "<table border=\"1\" class=\"dataframe\">\n",
       "  <thead>\n",
       "    <tr style=\"text-align: right;\">\n",
       "      <th></th>\n",
       "      <th>id</th>\n",
       "      <th>gender</th>\n",
       "      <th>age</th>\n",
       "      <th>hypertension</th>\n",
       "      <th>heart_disease</th>\n",
       "      <th>ever_married</th>\n",
       "      <th>work_type</th>\n",
       "      <th>Residence_type</th>\n",
       "      <th>avg_glucose_level</th>\n",
       "      <th>bmi</th>\n",
       "      <th>smoking_status</th>\n",
       "      <th>stroke</th>\n",
       "    </tr>\n",
       "  </thead>\n",
       "  <tbody>\n",
       "    <tr>\n",
       "      <th>0</th>\n",
       "      <td>9046</td>\n",
       "      <td>Male</td>\n",
       "      <td>67.0</td>\n",
       "      <td>0</td>\n",
       "      <td>1</td>\n",
       "      <td>Yes</td>\n",
       "      <td>Private</td>\n",
       "      <td>Urban</td>\n",
       "      <td>228.69</td>\n",
       "      <td>36.6</td>\n",
       "      <td>formerly smoked</td>\n",
       "      <td>1</td>\n",
       "    </tr>\n",
       "    <tr>\n",
       "      <th>1</th>\n",
       "      <td>51676</td>\n",
       "      <td>Female</td>\n",
       "      <td>61.0</td>\n",
       "      <td>0</td>\n",
       "      <td>0</td>\n",
       "      <td>Yes</td>\n",
       "      <td>Self-employed</td>\n",
       "      <td>Rural</td>\n",
       "      <td>202.21</td>\n",
       "      <td>NaN</td>\n",
       "      <td>never smoked</td>\n",
       "      <td>1</td>\n",
       "    </tr>\n",
       "    <tr>\n",
       "      <th>2</th>\n",
       "      <td>31112</td>\n",
       "      <td>Male</td>\n",
       "      <td>80.0</td>\n",
       "      <td>0</td>\n",
       "      <td>1</td>\n",
       "      <td>Yes</td>\n",
       "      <td>Private</td>\n",
       "      <td>Rural</td>\n",
       "      <td>105.92</td>\n",
       "      <td>32.5</td>\n",
       "      <td>never smoked</td>\n",
       "      <td>1</td>\n",
       "    </tr>\n",
       "    <tr>\n",
       "      <th>3</th>\n",
       "      <td>60182</td>\n",
       "      <td>Female</td>\n",
       "      <td>49.0</td>\n",
       "      <td>0</td>\n",
       "      <td>0</td>\n",
       "      <td>Yes</td>\n",
       "      <td>Private</td>\n",
       "      <td>Urban</td>\n",
       "      <td>171.23</td>\n",
       "      <td>34.4</td>\n",
       "      <td>smokes</td>\n",
       "      <td>1</td>\n",
       "    </tr>\n",
       "    <tr>\n",
       "      <th>4</th>\n",
       "      <td>1665</td>\n",
       "      <td>Female</td>\n",
       "      <td>79.0</td>\n",
       "      <td>1</td>\n",
       "      <td>0</td>\n",
       "      <td>Yes</td>\n",
       "      <td>Self-employed</td>\n",
       "      <td>Rural</td>\n",
       "      <td>174.12</td>\n",
       "      <td>24.0</td>\n",
       "      <td>never smoked</td>\n",
       "      <td>1</td>\n",
       "    </tr>\n",
       "  </tbody>\n",
       "</table>\n",
       "</div>"
      ],
      "text/plain": [
       "      id  gender   age  hypertension  heart_disease ever_married  \\\n",
       "0   9046    Male  67.0             0              1          Yes   \n",
       "1  51676  Female  61.0             0              0          Yes   \n",
       "2  31112    Male  80.0             0              1          Yes   \n",
       "3  60182  Female  49.0             0              0          Yes   \n",
       "4   1665  Female  79.0             1              0          Yes   \n",
       "\n",
       "       work_type Residence_type  avg_glucose_level   bmi   smoking_status  \\\n",
       "0        Private          Urban             228.69  36.6  formerly smoked   \n",
       "1  Self-employed          Rural             202.21   NaN     never smoked   \n",
       "2        Private          Rural             105.92  32.5     never smoked   \n",
       "3        Private          Urban             171.23  34.4           smokes   \n",
       "4  Self-employed          Rural             174.12  24.0     never smoked   \n",
       "\n",
       "   stroke  \n",
       "0       1  \n",
       "1       1  \n",
       "2       1  \n",
       "3       1  \n",
       "4       1  "
      ]
     },
     "execution_count": 156,
     "metadata": {},
     "output_type": "execute_result"
    }
   ],
   "source": [
    "strokedata.head()"
   ]
  },
  {
   "cell_type": "markdown",
   "id": "38dadf9c",
   "metadata": {},
   "source": [
    "##### Description of Data, as available on Kaggle: \n",
    "\n",
    "Attribute Information\n",
    "- id: unique identifier\n",
    "- gender: \"Male\", \"Female\" or \"Other\"\n",
    "- age: age of the patient\n",
    "- hypertension: 0 if the patient doesn't have hypertension, 1 if the patient has hypertension\n",
    "- heart_disease: 0 if the patient doesn't have any heart diseases, 1 if the patient has a heart disease\n",
    "- ever_married: \"No\" or \"Yes\"\n",
    "- work_type: \"children\", \"Govt_jov\", \"Never_worked\", \"Private\" or \"Self-employed\"\n",
    "- Residence_type: \"Rural\" or \"Urban\"\n",
    "- avg_glucose_level: average glucose level in blood\n",
    "- bmi: body mass index\n",
    "- smoking_status: \"formerly smoked\", \"never smoked\", \"smokes\" or \"Unknown\"*\n",
    "- stroke: 1 if the patient had a stroke or 0 if not\n",
    "\n",
    "Note: \"Unknown\" in smoking_status means that the information is unavailable for this patient"
   ]
  },
  {
   "cell_type": "markdown",
   "id": "c6fd0246",
   "metadata": {},
   "source": [
    "Check the vital statistics of the dataset using the type and shape attributes."
   ]
  },
  {
   "cell_type": "code",
   "execution_count": 157,
   "id": "38ec1939",
   "metadata": {},
   "outputs": [
    {
     "name": "stdout",
     "output_type": "stream",
     "text": [
      "Data type :  <class 'pandas.core.frame.DataFrame'>\n",
      "Data dims :  (5110, 12)\n"
     ]
    }
   ],
   "source": [
    "print(\"Data type : \", type(strokedata))\n",
    "print(\"Data dims : \", strokedata.shape)"
   ]
  },
  {
   "cell_type": "markdown",
   "id": "7fef5e1a",
   "metadata": {},
   "source": [
    "# Data Cleaning\n",
    "\n",
    "- Remove duplicated values\n",
    "- Remove anomalies\n",
    "- Drop unnecessary columns\n",
    "- Deal with null values\n",
    "- Change object to categorical types"
   ]
  },
  {
   "cell_type": "markdown",
   "id": "32372c4a",
   "metadata": {},
   "source": [
    "### Remove duplications"
   ]
  },
  {
   "cell_type": "code",
   "execution_count": 158,
   "id": "e4f21ded",
   "metadata": {},
   "outputs": [
    {
     "data": {
      "text/plain": [
       "0"
      ]
     },
     "execution_count": 158,
     "metadata": {},
     "output_type": "execute_result"
    }
   ],
   "source": [
    "strokedata.duplicated().sum()"
   ]
  },
  {
   "cell_type": "markdown",
   "id": "e3f725ce",
   "metadata": {},
   "source": [
    "### Remove anomalies\n",
    "\n",
    "From the attributes as listed in Kaggle, we can see that there is an \"other\" category for gender. We are going to observe the significance of it and make changes if necessary."
   ]
  },
  {
   "cell_type": "code",
   "execution_count": 159,
   "id": "70e0e46f",
   "metadata": {},
   "outputs": [
    {
     "data": {
      "text/html": [
       "<div>\n",
       "<style scoped>\n",
       "    .dataframe tbody tr th:only-of-type {\n",
       "        vertical-align: middle;\n",
       "    }\n",
       "\n",
       "    .dataframe tbody tr th {\n",
       "        vertical-align: top;\n",
       "    }\n",
       "\n",
       "    .dataframe thead th {\n",
       "        text-align: right;\n",
       "    }\n",
       "</style>\n",
       "<table border=\"1\" class=\"dataframe\">\n",
       "  <thead>\n",
       "    <tr style=\"text-align: right;\">\n",
       "      <th></th>\n",
       "      <th>gender</th>\n",
       "    </tr>\n",
       "  </thead>\n",
       "  <tbody>\n",
       "    <tr>\n",
       "      <th>Female</th>\n",
       "      <td>2994</td>\n",
       "    </tr>\n",
       "    <tr>\n",
       "      <th>Male</th>\n",
       "      <td>2115</td>\n",
       "    </tr>\n",
       "    <tr>\n",
       "      <th>Other</th>\n",
       "      <td>1</td>\n",
       "    </tr>\n",
       "  </tbody>\n",
       "</table>\n",
       "</div>"
      ],
      "text/plain": [
       "        gender\n",
       "Female    2994\n",
       "Male      2115\n",
       "Other        1"
      ]
     },
     "execution_count": 159,
     "metadata": {},
     "output_type": "execute_result"
    }
   ],
   "source": [
    "gender = pd.DataFrame(strokedata['gender'].value_counts())\n",
    "gender"
   ]
  },
  {
   "cell_type": "markdown",
   "id": "5335ad60",
   "metadata": {},
   "source": [
    "As observed from the dataframe extracted from the dataset, there is one anomaly out of 5110 values. Since its significance is relatively low, we will remove the row from the dataset."
   ]
  },
  {
   "cell_type": "code",
   "execution_count": 160,
   "id": "49438939",
   "metadata": {},
   "outputs": [],
   "source": [
    "strokedata.drop(strokedata[strokedata['gender'] == 'Other'].index, inplace = True)"
   ]
  },
  {
   "cell_type": "code",
   "execution_count": 161,
   "id": "4d1aa7c9",
   "metadata": {},
   "outputs": [
    {
     "data": {
      "text/html": [
       "<div>\n",
       "<style scoped>\n",
       "    .dataframe tbody tr th:only-of-type {\n",
       "        vertical-align: middle;\n",
       "    }\n",
       "\n",
       "    .dataframe tbody tr th {\n",
       "        vertical-align: top;\n",
       "    }\n",
       "\n",
       "    .dataframe thead th {\n",
       "        text-align: right;\n",
       "    }\n",
       "</style>\n",
       "<table border=\"1\" class=\"dataframe\">\n",
       "  <thead>\n",
       "    <tr style=\"text-align: right;\">\n",
       "      <th></th>\n",
       "      <th>gender</th>\n",
       "    </tr>\n",
       "  </thead>\n",
       "  <tbody>\n",
       "    <tr>\n",
       "      <th>Female</th>\n",
       "      <td>2994</td>\n",
       "    </tr>\n",
       "    <tr>\n",
       "      <th>Male</th>\n",
       "      <td>2115</td>\n",
       "    </tr>\n",
       "  </tbody>\n",
       "</table>\n",
       "</div>"
      ],
      "text/plain": [
       "        gender\n",
       "Female    2994\n",
       "Male      2115"
      ]
     },
     "execution_count": 161,
     "metadata": {},
     "output_type": "execute_result"
    }
   ],
   "source": [
    "gender = pd.DataFrame(strokedata['gender'].value_counts())\n",
    "gender"
   ]
  },
  {
   "cell_type": "markdown",
   "id": "32ba9b56",
   "metadata": {},
   "source": [
    "### Drop unnecessary columns"
   ]
  },
  {
   "cell_type": "code",
   "execution_count": 162,
   "id": "81035aa2",
   "metadata": {},
   "outputs": [],
   "source": [
    "strokedata.drop('id' , axis=1 , inplace=True)"
   ]
  },
  {
   "cell_type": "code",
   "execution_count": 163,
   "id": "c15fe175",
   "metadata": {
    "scrolled": true
   },
   "outputs": [
    {
     "name": "stdout",
     "output_type": "stream",
     "text": [
      "<class 'pandas.core.frame.DataFrame'>\n",
      "Int64Index: 5109 entries, 0 to 5109\n",
      "Data columns (total 11 columns):\n",
      " #   Column             Non-Null Count  Dtype  \n",
      "---  ------             --------------  -----  \n",
      " 0   gender             5109 non-null   object \n",
      " 1   age                5109 non-null   float64\n",
      " 2   hypertension       5109 non-null   int64  \n",
      " 3   heart_disease      5109 non-null   int64  \n",
      " 4   ever_married       5109 non-null   object \n",
      " 5   work_type          5109 non-null   object \n",
      " 6   Residence_type     5109 non-null   object \n",
      " 7   avg_glucose_level  5109 non-null   float64\n",
      " 8   bmi                4908 non-null   float64\n",
      " 9   smoking_status     5109 non-null   object \n",
      " 10  stroke             5109 non-null   int64  \n",
      "dtypes: float64(3), int64(3), object(5)\n",
      "memory usage: 479.0+ KB\n"
     ]
    }
   ],
   "source": [
    "strokedata.info()"
   ]
  },
  {
   "cell_type": "markdown",
   "id": "05c39aa0",
   "metadata": {},
   "source": [
    "### Remove null values in dataset\n",
    "\n",
    "First, we are going to deal with the null values under the `bmi` column. As we can see, there are 201 null values under the column.\n",
    "\n",
    "From our understanding, there are various ways to deal with null values in the dataset, including:\n",
    "- Remove the null values\n",
    "- Fill up with mean/median\n",
    "\n",
    "In our case, we chose to fill the null values up as filling up is better than removing data from the dataset. Further research tells us that we should fill up the null values using the median since there are many outliers in the dataset. "
   ]
  },
  {
   "cell_type": "code",
   "execution_count": 164,
   "id": "496ff8b0",
   "metadata": {},
   "outputs": [
    {
     "data": {
      "text/plain": [
       "<AxesSubplot:>"
      ]
     },
     "execution_count": 164,
     "metadata": {},
     "output_type": "execute_result"
    },
    {
     "data": {
      "image/png": "[encoded data removed]",
      "text/plain": [
       "<Figure size 432x288 with 1 Axes>"
      ]
     },
     "metadata": {},
     "output_type": "display_data"
    }
   ],
   "source": [
    "sb.boxplot(data = strokedata['bmi'], orient = \"h\")"
   ]
  },
  {
   "cell_type": "code",
   "execution_count": 165,
   "id": "578a3975",
   "metadata": {},
   "outputs": [
    {
     "data": {
      "text/plain": [
       "count    4908.00000\n",
       "mean       28.89456\n",
       "std         7.85432\n",
       "min        10.30000\n",
       "25%        23.50000\n",
       "50%        28.10000\n",
       "75%        33.10000\n",
       "max        97.60000\n",
       "Name: bmi, dtype: float64"
      ]
     },
     "execution_count": 165,
     "metadata": {},
     "output_type": "execute_result"
    }
   ],
   "source": [
    "strokedata.bmi.describe()"
   ]
  },
  {
   "cell_type": "code",
   "execution_count": 166,
   "id": "bdfeeb9f",
   "metadata": {},
   "outputs": [],
   "source": [
    "#Fill up the null values with median\n",
    "strokedata['bmi'] = strokedata['bmi'].fillna(strokedata['bmi'].median())"
   ]
  },
  {
   "cell_type": "code",
   "execution_count": 167,
   "id": "1eee78d6",
   "metadata": {},
   "outputs": [
    {
     "name": "stdout",
     "output_type": "stream",
     "text": [
      "<class 'pandas.core.frame.DataFrame'>\n",
      "Int64Index: 5109 entries, 0 to 5109\n",
      "Data columns (total 11 columns):\n",
      " #   Column             Non-Null Count  Dtype  \n",
      "---  ------             --------------  -----  \n",
      " 0   gender             5109 non-null   object \n",
      " 1   age                5109 non-null   float64\n",
      " 2   hypertension       5109 non-null   int64  \n",
      " 3   heart_disease      5109 non-null   int64  \n",
      " 4   ever_married       5109 non-null   object \n",
      " 5   work_type          5109 non-null   object \n",
      " 6   Residence_type     5109 non-null   object \n",
      " 7   avg_glucose_level  5109 non-null   float64\n",
      " 8   bmi                5109 non-null   float64\n",
      " 9   smoking_status     5109 non-null   object \n",
      " 10  stroke             5109 non-null   int64  \n",
      "dtypes: float64(3), int64(3), object(5)\n",
      "memory usage: 608.0+ KB\n"
     ]
    }
   ],
   "source": [
    "strokedata.info()"
   ]
  },
  {
   "cell_type": "markdown",
   "id": "4ef000a9",
   "metadata": {},
   "source": [
    "Secondly, we are going to deal with the unknown values under the `smoking_status` column. Since they are classified as unknown, they are similar to null values thus we are going to reclassify them under other categories."
   ]
  },
  {
   "cell_type": "code",
   "execution_count": 168,
   "id": "5a4e71b4",
   "metadata": {},
   "outputs": [
    {
     "name": "stdout",
     "output_type": "stream",
     "text": [
      "Value count for categories in smoking_status:\n",
      "never smoked       1892\n",
      "Unknown            1544\n",
      "formerly smoked     884\n",
      "smokes              789\n",
      "Name: smoking_status, dtype: int64\n"
     ]
    },
    {
     "data": {
      "text/plain": [
       "<AxesSubplot:xlabel='smoking_status', ylabel='count'>"
      ]
     },
     "execution_count": 168,
     "metadata": {},
     "output_type": "execute_result"
    },
    {
     "data": {
      "image/png": "[encoded data removed]",
      "text/plain": [
       "<Figure size 432x288 with 1 Axes>"
      ]
     },
     "metadata": {},
     "output_type": "display_data"
    }
   ],
   "source": [
    "# Visualising the significance of the unknown category in the dataset\n",
    "print('Value count for categories in smoking_status:')\n",
    "val_count = strokedata['smoking_status'].value_counts()\n",
    "print(val_count)\n",
    "\n",
    "sb.countplot(data = strokedata, x = \"smoking_status\", hue = \"stroke\")"
   ]
  },
  {
   "cell_type": "markdown",
   "id": "9c35212e",
   "metadata": {},
   "source": [
    "Under the \"smoking_status\" column, there is an `Unknown` category. We have to change it since it will lead to ambiguity for the machine learning, where it will wrongly conclude that people with unknown smoking status are less likely to suffer from a stroke. \n",
    "\n",
    "Following these steps, we intend to alter the data to remove the unknown category.\n",
    "- Calculate the probability of having a stroke\n",
    "- Convert the `Unknown` category to another based on the probability of getting a stroke"
   ]
  },
  {
   "cell_type": "code",
   "execution_count": 169,
   "id": "553c8818",
   "metadata": {},
   "outputs": [
    {
     "data": {
      "image/png": "[encoded data removed]",
      "text/plain": [
       "<Figure size 864x576 with 1 Axes>"
      ]
     },
     "metadata": {},
     "output_type": "display_data"
    }
   ],
   "source": [
    "def stacked_bar_plot(data, x, y):\n",
    "    fig, ax = plt.subplots(figsize = (12,8))\n",
    "\n",
    "    crosstab = pd.crosstab(index = data[x], columns = data[y], normalize = 'index')\n",
    "\n",
    "    crosstab.plot(kind = 'bar', stacked = True, ax = ax)\n",
    "\n",
    "    ax.legend(loc = 'center left', bbox_to_anchor = (1, 0.5), title = y)\n",
    "    ax.set_ylabel('proportion')\n",
    "    ax.set_yticks(np.linspace(0,1,11))\n",
    "\n",
    "    for n, x in enumerate(crosstab.index):\n",
    "        for (proportion, y_loc) in zip(crosstab.loc[x], crosstab.loc[x].cumsum()):\n",
    "            ax.text(x = n,\n",
    "                    y = (y_loc - proportion) + (proportion / 2),\n",
    "                    s = f'{np.round(proportion * 100, 1)}%',\n",
    "                    color = 'white',\n",
    "                    fontsize = 14,\n",
    "                    weight = 'bold',\n",
    "                    horizontalalignment = 'center',\n",
    "                    verticalalignment = 'center')\n",
    "\n",
    "plt.show()\n",
    "\n",
    "stacked_bar_plot(strokedata, 'smoking_status', 'stroke')"
   ]
  },
  {
   "cell_type": "markdown",
   "id": "6f07baed",
   "metadata": {},
   "source": [
    "From the stacked bar plot above, we can infer that:\n",
    "- Someone who has never smoked is least likely to suffer from a stroke (4.8%)\n",
    "- Someone who formerly smoked is the most likely to suffer from a stroke (7.9%)\n",
    "\n",
    "Therefore, we will adjust the dataset for our ML by:\n",
    "1. For those who suffered from a stroke, set the category to `formerly smoked`\n",
    "2. For those who did not suffer from a stroke, set the category to `never smoked`"
   ]
  },
  {
   "cell_type": "code",
   "execution_count": 170,
   "id": "f5dc9ed4",
   "metadata": {},
   "outputs": [
    {
     "name": "stdout",
     "output_type": "stream",
     "text": [
      "Value count for categories in smoking_status:\n",
      "never smoked       3389\n",
      "formerly smoked     931\n",
      "smokes              789\n",
      "Name: smoking_status, dtype: int64\n"
     ]
    },
    {
     "data": {
      "text/plain": [
       "[Text(0.5, 1.0, 'After adjustment')]"
      ]
     },
     "execution_count": 170,
     "metadata": {},
     "output_type": "execute_result"
    },
    {
     "data": {
      "image/png": "[encoded data removed]",
      "text/plain": [
       "<Figure size 432x288 with 1 Axes>"
      ]
     },
     "metadata": {},
     "output_type": "display_data"
    }
   ],
   "source": [
    "# '3' represents unknown category in the smoking_status column\n",
    "step1 = (strokedata['smoking_status'] == 'Unknown') & (strokedata['stroke'] == 1)\n",
    "strokedata.loc[step1, 'smoking_status'] = 'formerly smoked'\n",
    "\n",
    "step2 = (strokedata['smoking_status'] == 'Unknown') & (strokedata['stroke'] == 0)\n",
    "strokedata.loc[step2, 'smoking_status'] = 'never smoked'\n",
    "\n",
    "# For checking \n",
    "print('Value count for categories in smoking_status:')\n",
    "val_count = strokedata['smoking_status'].value_counts()\n",
    "print(val_count)\n",
    "\n",
    "sb.countplot(data = strokedata, x = \"smoking_status\", hue = \"stroke\").set(title = \"After adjustment\")"
   ]
  },
  {
   "cell_type": "markdown",
   "id": "8188bc81",
   "metadata": {},
   "source": [
    "As seen in the countplot above, we have successfully removed the unknown category."
   ]
  },
  {
   "cell_type": "code",
   "execution_count": 171,
   "id": "3677d06c",
   "metadata": {},
   "outputs": [],
   "source": [
    "# Before adjusting the categorical data, we will extract the adjusted data into csv to be used for exploratory data analysis\n",
    "strokedata.to_csv('adjusted_data.csv')"
   ]
  },
  {
   "cell_type": "markdown",
   "id": "8a240611",
   "metadata": {},
   "source": [
    "### Change object type to categorical type"
   ]
  },
  {
   "cell_type": "code",
   "execution_count": 172,
   "id": "a94b2ab9",
   "metadata": {},
   "outputs": [],
   "source": [
    "# For those with only two distinct categorical type\n",
    "strokedata['ever_married'] = strokedata['ever_married'].replace({'Yes' : 1 , 'No' : 0 })\n",
    "strokedata['gender'] = strokedata['gender'].replace({'Male' : 1 , 'Female' : 0 })\n",
    "strokedata['Residence_type'] = strokedata['Residence_type'].replace({'Urban' : 1 , 'Rural' : 0 })"
   ]
  },
  {
   "cell_type": "code",
   "execution_count": 173,
   "id": "9f50bbd1",
   "metadata": {},
   "outputs": [],
   "source": [
    "# For the column 'work_type'\n",
    "def work_type(column):\n",
    "    if column == 'children':\n",
    "        return 1\n",
    "    elif column == 'Govt_job':\n",
    "        return 2\n",
    "    elif column == 'Never_worked':\n",
    "        return 3\n",
    "    elif column == 'Private':\n",
    "        return 4\n",
    "    else:\n",
    "        return 5"
   ]
  },
  {
   "cell_type": "code",
   "execution_count": 174,
   "id": "77e763b5",
   "metadata": {},
   "outputs": [],
   "source": [
    "strokedata.work_type = strokedata.work_type.apply(work_type)"
   ]
  },
  {
   "cell_type": "code",
   "execution_count": 175,
   "id": "92bb2f46",
   "metadata": {},
   "outputs": [],
   "source": [
    "# For the column 'smoking_status'\n",
    "def smoking_status(column):\n",
    "    if column == 'formerly smoked':\n",
    "        return 0\n",
    "    elif column == 'never smoked':\n",
    "        return 1\n",
    "    elif column == 'smokes':\n",
    "        return 2\n",
    "    else:\n",
    "        return 3"
   ]
  },
  {
   "cell_type": "code",
   "execution_count": 176,
   "id": "db4e699e",
   "metadata": {},
   "outputs": [],
   "source": [
    "strokedata.smoking_status = strokedata.smoking_status.apply(smoking_status)"
   ]
  },
  {
   "cell_type": "code",
   "execution_count": 177,
   "id": "6078a86d",
   "metadata": {
    "scrolled": true
   },
   "outputs": [
    {
     "name": "stdout",
     "output_type": "stream",
     "text": [
      "<class 'pandas.core.frame.DataFrame'>\n",
      "Int64Index: 5109 entries, 0 to 5109\n",
      "Data columns (total 11 columns):\n",
      " #   Column             Non-Null Count  Dtype  \n",
      "---  ------             --------------  -----  \n",
      " 0   gender             5109 non-null   int64  \n",
      " 1   age                5109 non-null   float64\n",
      " 2   hypertension       5109 non-null   int64  \n",
      " 3   heart_disease      5109 non-null   int64  \n",
      " 4   ever_married       5109 non-null   int64  \n",
      " 5   work_type          5109 non-null   int64  \n",
      " 6   Residence_type     5109 non-null   int64  \n",
      " 7   avg_glucose_level  5109 non-null   float64\n",
      " 8   bmi                5109 non-null   float64\n",
      " 9   smoking_status     5109 non-null   int64  \n",
      " 10  stroke             5109 non-null   int64  \n",
      "dtypes: float64(3), int64(8)\n",
      "memory usage: 608.0 KB\n"
     ]
    }
   ],
   "source": [
    "strokedata.info()"
   ]
  },
  {
   "cell_type": "code",
   "execution_count": 178,
   "id": "81450b91",
   "metadata": {},
   "outputs": [],
   "source": [
    "# Export cleaned dataset into csv file\n",
    "strokedata.to_csv('cleaned_data.csv')"
   ]
  },
  {
   "cell_type": "code",
   "execution_count": null,
   "id": "b116c044",
   "metadata": {},
   "outputs": [],
   "source": []
  }
 ],
 "metadata": {
  "kernelspec": {
   "display_name": "Python 3 (ipykernel)",
   "language": "python",
   "name": "python3"
  },
  "language_info": {
   "codemirror_mode": {
    "name": "ipython",
    "version": 3
   },
   "file_extension": ".py",
   "mimetype": "text/x-python",
   "name": "python",
   "nbconvert_exporter": "python",
   "pygments_lexer": "ipython3",
   "version": "3.9.7"
  }
 },
 "nbformat": 4,
 "nbformat_minor": 5
}
