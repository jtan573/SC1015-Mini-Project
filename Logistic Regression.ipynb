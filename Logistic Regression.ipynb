{
 "cells": [
  {
   "cell_type": "markdown",
   "id": "b5fd752c",
   "metadata": {},
   "source": [
    "# Logistic Regression"
   ]
  },
  {
   "cell_type": "markdown",
   "id": "a5391702",
   "metadata": {},
   "source": [
    "## What is Logistic Regression?\n",
    "\n",
    "- Logistic Regression is a supervised machine learning algorithm used to model the probability of a certain class or event. \n",
    "- It is usually used for Binary classification problems.\n",
    "- Binary classification refers to predicting the output variable that is discrete in two classes, such as (Stroke/No Stroke) event occurring."
   ]
  },
  {
   "cell_type": "markdown",
   "id": "fc9634c7",
   "metadata": {},
   "source": [
    "## How does Logistic Regression Work?\n",
    "\n",
    "- The logistic regression model works similarly to the linear regression model. \n",
    "- The linear equation in the linear regression model is normally written as p = b0 + b1 * x, with p representing probability. \n",
    "- However, the values of the linear equation can exceed the range (0,1) of probability. Thus, we need to predict the logarithm of odds.\n",
    "\n",
    "**Odds**: <br>\n",
    "`The ratio of the probability of an event occurring to the probability of the event not occurring.`\n",
    "\n",
    "- Updating the equation mentioned earlier, we end up with p/(1-p) = b0 + b1 * x. \n",
    "- Since odds can only be positive, we use logarithm of odds, which updates the equation further to ln(p/(1-p)) = b0+b1*x.\n",
    "\n",
    "- Simplifying the equation further, we eventually end up with the equation p = 1 / (1 + e^-(b0+b1x)). \n",
    "- This represents a simplified equation for probability with only one predictor variable x.\n",
    "- By plugging in different values of x, we can obtain the probability of it falling within a given class. \n",
    "- We can then snap the probability to a binary class value (e.g 0 if probability(predictor) < 0.5 and probability(predictor) >= 0.5) to help us make the prediction."
   ]
  },
  {
   "cell_type": "markdown",
   "id": "5ec8a5f3",
   "metadata": {},
   "source": [
    "## Essential Libraries\n",
    "\n",
    "Import essential Python Libraries\n",
    "\n",
    "> NumPy : Library for Numeric Computations in Python  \n",
    "> Pandas : Library for Data Acquisition and Preparation  \n",
    "> Matplotlib : Low-level library for Data Visualization  \n",
    "> Seaborn : Higher-level library for Data Visualization  "
   ]
  },
  {
   "cell_type": "code",
   "execution_count": 1,
   "id": "7f5b2301",
   "metadata": {},
   "outputs": [],
   "source": [
    "#Import Libraries\n",
    "import numpy as np\n",
    "import pandas as pd\n",
    "import matplotlib.pyplot as plt\n",
    "import seaborn as sb"
   ]
  },
  {
   "cell_type": "markdown",
   "id": "266a979e",
   "metadata": {},
   "source": [
    "### Import relevant modules from sklearn"
   ]
  },
  {
   "cell_type": "code",
   "execution_count": 2,
   "id": "b8f81685",
   "metadata": {},
   "outputs": [],
   "source": [
    "from sklearn.linear_model import LogisticRegression\n",
    "from sklearn.metrics import confusion_matrix\n",
    "from sklearn.model_selection import train_test_split"
   ]
  },
  {
   "cell_type": "markdown",
   "id": "c587c63d",
   "metadata": {},
   "source": [
    "## Import differently sampled training data\n",
    "\n",
    "> Random Sampling: `train.csv`<br>\n",
    "> SMOTE (SME): `SMOTEoversampling_train.csv`<br>\n",
    "> SMOTEENN (SMN): `SMOTEENNoversampling_train.csv`<br>\n",
    "> ADASYN (ADA): `ADASYNoversampling_train.csv`<br>\n",
    "\n",
    "After importing, convert the data type to category for the relevant columns."
   ]
  },
  {
   "cell_type": "markdown",
   "id": "2d6c6f8e",
   "metadata": {},
   "source": [
    "### 1. Random Sampling"
   ]
  },
  {
   "cell_type": "code",
   "execution_count": 3,
   "id": "2ff997e7",
   "metadata": {},
   "outputs": [
    {
     "data": {
      "text/html": [
       "<div>\n",
       "<style scoped>\n",
       "    .dataframe tbody tr th:only-of-type {\n",
       "        vertical-align: middle;\n",
       "    }\n",
       "\n",
       "    .dataframe tbody tr th {\n",
       "        vertical-align: top;\n",
       "    }\n",
       "\n",
       "    .dataframe thead th {\n",
       "        text-align: right;\n",
       "    }\n",
       "</style>\n",
       "<table border=\"1\" class=\"dataframe\">\n",
       "  <thead>\n",
       "    <tr style=\"text-align: right;\">\n",
       "      <th></th>\n",
       "      <th>gender</th>\n",
       "      <th>age</th>\n",
       "      <th>hypertension</th>\n",
       "      <th>heart_disease</th>\n",
       "      <th>ever_married</th>\n",
       "      <th>work_type</th>\n",
       "      <th>Residence_type</th>\n",
       "      <th>avg_glucose_level</th>\n",
       "      <th>bmi</th>\n",
       "      <th>smoking_status</th>\n",
       "      <th>stroke</th>\n",
       "    </tr>\n",
       "  </thead>\n",
       "  <tbody>\n",
       "    <tr>\n",
       "      <th>2504</th>\n",
       "      <td>0</td>\n",
       "      <td>44.0</td>\n",
       "      <td>0</td>\n",
       "      <td>0</td>\n",
       "      <td>0</td>\n",
       "      <td>4</td>\n",
       "      <td>1</td>\n",
       "      <td>127.21</td>\n",
       "      <td>29.8</td>\n",
       "      <td>2</td>\n",
       "      <td>0</td>\n",
       "    </tr>\n",
       "    <tr>\n",
       "      <th>3389</th>\n",
       "      <td>0</td>\n",
       "      <td>31.0</td>\n",
       "      <td>0</td>\n",
       "      <td>0</td>\n",
       "      <td>1</td>\n",
       "      <td>4</td>\n",
       "      <td>0</td>\n",
       "      <td>75.82</td>\n",
       "      <td>29.1</td>\n",
       "      <td>1</td>\n",
       "      <td>0</td>\n",
       "    </tr>\n",
       "    <tr>\n",
       "      <th>3444</th>\n",
       "      <td>0</td>\n",
       "      <td>41.0</td>\n",
       "      <td>0</td>\n",
       "      <td>0</td>\n",
       "      <td>1</td>\n",
       "      <td>4</td>\n",
       "      <td>1</td>\n",
       "      <td>103.79</td>\n",
       "      <td>28.6</td>\n",
       "      <td>1</td>\n",
       "      <td>0</td>\n",
       "    </tr>\n",
       "    <tr>\n",
       "      <th>2077</th>\n",
       "      <td>1</td>\n",
       "      <td>74.0</td>\n",
       "      <td>0</td>\n",
       "      <td>0</td>\n",
       "      <td>1</td>\n",
       "      <td>4</td>\n",
       "      <td>0</td>\n",
       "      <td>65.28</td>\n",
       "      <td>28.2</td>\n",
       "      <td>1</td>\n",
       "      <td>0</td>\n",
       "    </tr>\n",
       "    <tr>\n",
       "      <th>4761</th>\n",
       "      <td>0</td>\n",
       "      <td>76.0</td>\n",
       "      <td>1</td>\n",
       "      <td>0</td>\n",
       "      <td>1</td>\n",
       "      <td>5</td>\n",
       "      <td>1</td>\n",
       "      <td>78.68</td>\n",
       "      <td>23.3</td>\n",
       "      <td>1</td>\n",
       "      <td>0</td>\n",
       "    </tr>\n",
       "  </tbody>\n",
       "</table>\n",
       "</div>"
      ],
      "text/plain": [
       "      gender   age hypertension heart_disease ever_married work_type  \\\n",
       "2504       0  44.0            0             0            0         4   \n",
       "3389       0  31.0            0             0            1         4   \n",
       "3444       0  41.0            0             0            1         4   \n",
       "2077       1  74.0            0             0            1         4   \n",
       "4761       0  76.0            1             0            1         5   \n",
       "\n",
       "     Residence_type  avg_glucose_level   bmi smoking_status stroke  \n",
       "2504              1             127.21  29.8              2      0  \n",
       "3389              0              75.82  29.1              1      0  \n",
       "3444              1             103.79  28.6              1      0  \n",
       "2077              0              65.28  28.2              1      0  \n",
       "4761              1              78.68  23.3              1      0  "
      ]
     },
     "execution_count": 3,
     "metadata": {},
     "output_type": "execute_result"
    }
   ],
   "source": [
    "#Importing randomly sampled data\n",
    "train = pd.read_csv(\"data/train.csv\", index_col=0).loc[:, 'gender':]\n",
    "\n",
    "#Convert relevant columns into categorical\n",
    "for col in ['hypertension', 'heart_disease', 'ever_married', 'work_type', 'Residence_type', 'smoking_status', 'stroke']:\n",
    "    train[col] = train[col].astype('category')\n",
    "\n",
    "train.head()"
   ]
  },
  {
   "cell_type": "markdown",
   "id": "ab4842af",
   "metadata": {},
   "source": [
    "### 2. SMOTE"
   ]
  },
  {
   "cell_type": "code",
   "execution_count": 4,
   "id": "cd6966f1",
   "metadata": {},
   "outputs": [
    {
     "data": {
      "text/html": [
       "<div>\n",
       "<style scoped>\n",
       "    .dataframe tbody tr th:only-of-type {\n",
       "        vertical-align: middle;\n",
       "    }\n",
       "\n",
       "    .dataframe tbody tr th {\n",
       "        vertical-align: top;\n",
       "    }\n",
       "\n",
       "    .dataframe thead th {\n",
       "        text-align: right;\n",
       "    }\n",
       "</style>\n",
       "<table border=\"1\" class=\"dataframe\">\n",
       "  <thead>\n",
       "    <tr style=\"text-align: right;\">\n",
       "      <th></th>\n",
       "      <th>gender</th>\n",
       "      <th>age</th>\n",
       "      <th>hypertension</th>\n",
       "      <th>heart_disease</th>\n",
       "      <th>ever_married</th>\n",
       "      <th>work_type</th>\n",
       "      <th>Residence_type</th>\n",
       "      <th>avg_glucose_level</th>\n",
       "      <th>bmi</th>\n",
       "      <th>smoking_status</th>\n",
       "      <th>stroke</th>\n",
       "    </tr>\n",
       "  </thead>\n",
       "  <tbody>\n",
       "    <tr>\n",
       "      <th>0</th>\n",
       "      <td>0</td>\n",
       "      <td>44.0</td>\n",
       "      <td>0</td>\n",
       "      <td>0</td>\n",
       "      <td>0</td>\n",
       "      <td>4</td>\n",
       "      <td>1</td>\n",
       "      <td>127.21</td>\n",
       "      <td>29.8</td>\n",
       "      <td>2</td>\n",
       "      <td>0</td>\n",
       "    </tr>\n",
       "    <tr>\n",
       "      <th>1</th>\n",
       "      <td>0</td>\n",
       "      <td>31.0</td>\n",
       "      <td>0</td>\n",
       "      <td>0</td>\n",
       "      <td>1</td>\n",
       "      <td>4</td>\n",
       "      <td>0</td>\n",
       "      <td>75.82</td>\n",
       "      <td>29.1</td>\n",
       "      <td>1</td>\n",
       "      <td>0</td>\n",
       "    </tr>\n",
       "    <tr>\n",
       "      <th>2</th>\n",
       "      <td>0</td>\n",
       "      <td>41.0</td>\n",
       "      <td>0</td>\n",
       "      <td>0</td>\n",
       "      <td>1</td>\n",
       "      <td>4</td>\n",
       "      <td>1</td>\n",
       "      <td>103.79</td>\n",
       "      <td>28.6</td>\n",
       "      <td>1</td>\n",
       "      <td>0</td>\n",
       "    </tr>\n",
       "    <tr>\n",
       "      <th>3</th>\n",
       "      <td>1</td>\n",
       "      <td>74.0</td>\n",
       "      <td>0</td>\n",
       "      <td>0</td>\n",
       "      <td>1</td>\n",
       "      <td>4</td>\n",
       "      <td>0</td>\n",
       "      <td>65.28</td>\n",
       "      <td>28.2</td>\n",
       "      <td>1</td>\n",
       "      <td>0</td>\n",
       "    </tr>\n",
       "    <tr>\n",
       "      <th>4</th>\n",
       "      <td>0</td>\n",
       "      <td>76.0</td>\n",
       "      <td>1</td>\n",
       "      <td>0</td>\n",
       "      <td>1</td>\n",
       "      <td>5</td>\n",
       "      <td>1</td>\n",
       "      <td>78.68</td>\n",
       "      <td>23.3</td>\n",
       "      <td>1</td>\n",
       "      <td>0</td>\n",
       "    </tr>\n",
       "  </tbody>\n",
       "</table>\n",
       "</div>"
      ],
      "text/plain": [
       "   gender   age hypertension heart_disease ever_married work_type  \\\n",
       "0       0  44.0            0             0            0         4   \n",
       "1       0  31.0            0             0            1         4   \n",
       "2       0  41.0            0             0            1         4   \n",
       "3       1  74.0            0             0            1         4   \n",
       "4       0  76.0            1             0            1         5   \n",
       "\n",
       "  Residence_type  avg_glucose_level   bmi smoking_status stroke  \n",
       "0              1             127.21  29.8              2      0  \n",
       "1              0              75.82  29.1              1      0  \n",
       "2              1             103.79  28.6              1      0  \n",
       "3              0              65.28  28.2              1      0  \n",
       "4              1              78.68  23.3              1      0  "
      ]
     },
     "execution_count": 4,
     "metadata": {},
     "output_type": "execute_result"
    }
   ],
   "source": [
    "#Importing SMOTE oversampled data\n",
    "sme_train = pd.read_csv(\"data/SMOTEoversampling_train.csv\", index_col=0).loc[:, 'gender':]\n",
    "\n",
    "#Convert relevant columns into categorical\n",
    "for col in ['hypertension', 'heart_disease', 'ever_married', 'work_type', 'Residence_type', 'smoking_status', 'stroke']:\n",
    "    sme_train[col] = sme_train[col].astype('category')\n",
    "\n",
    "sme_train.head()"
   ]
  },
  {
   "cell_type": "markdown",
   "id": "5cea690f",
   "metadata": {},
   "source": [
    "<!-- ### SMOTE-Tomek -->"
   ]
  },
  {
   "cell_type": "markdown",
   "id": "6e6830af",
   "metadata": {},
   "source": [
    "### 3. SMOTEENN"
   ]
  },
  {
   "cell_type": "code",
   "execution_count": 5,
   "id": "cfcbbba3",
   "metadata": {},
   "outputs": [
    {
     "data": {
      "text/html": [
       "<div>\n",
       "<style scoped>\n",
       "    .dataframe tbody tr th:only-of-type {\n",
       "        vertical-align: middle;\n",
       "    }\n",
       "\n",
       "    .dataframe tbody tr th {\n",
       "        vertical-align: top;\n",
       "    }\n",
       "\n",
       "    .dataframe thead th {\n",
       "        text-align: right;\n",
       "    }\n",
       "</style>\n",
       "<table border=\"1\" class=\"dataframe\">\n",
       "  <thead>\n",
       "    <tr style=\"text-align: right;\">\n",
       "      <th></th>\n",
       "      <th>gender</th>\n",
       "      <th>age</th>\n",
       "      <th>hypertension</th>\n",
       "      <th>heart_disease</th>\n",
       "      <th>ever_married</th>\n",
       "      <th>work_type</th>\n",
       "      <th>Residence_type</th>\n",
       "      <th>avg_glucose_level</th>\n",
       "      <th>bmi</th>\n",
       "      <th>smoking_status</th>\n",
       "      <th>stroke</th>\n",
       "    </tr>\n",
       "  </thead>\n",
       "  <tbody>\n",
       "    <tr>\n",
       "      <th>0</th>\n",
       "      <td>0</td>\n",
       "      <td>44.0</td>\n",
       "      <td>0</td>\n",
       "      <td>0</td>\n",
       "      <td>0</td>\n",
       "      <td>4</td>\n",
       "      <td>1</td>\n",
       "      <td>127.21</td>\n",
       "      <td>29.8</td>\n",
       "      <td>2</td>\n",
       "      <td>0</td>\n",
       "    </tr>\n",
       "    <tr>\n",
       "      <th>1</th>\n",
       "      <td>0</td>\n",
       "      <td>31.0</td>\n",
       "      <td>0</td>\n",
       "      <td>0</td>\n",
       "      <td>1</td>\n",
       "      <td>4</td>\n",
       "      <td>0</td>\n",
       "      <td>75.82</td>\n",
       "      <td>29.1</td>\n",
       "      <td>1</td>\n",
       "      <td>0</td>\n",
       "    </tr>\n",
       "    <tr>\n",
       "      <th>2</th>\n",
       "      <td>0</td>\n",
       "      <td>41.0</td>\n",
       "      <td>0</td>\n",
       "      <td>0</td>\n",
       "      <td>1</td>\n",
       "      <td>4</td>\n",
       "      <td>1</td>\n",
       "      <td>103.79</td>\n",
       "      <td>28.6</td>\n",
       "      <td>1</td>\n",
       "      <td>0</td>\n",
       "    </tr>\n",
       "    <tr>\n",
       "      <th>3</th>\n",
       "      <td>1</td>\n",
       "      <td>74.0</td>\n",
       "      <td>0</td>\n",
       "      <td>0</td>\n",
       "      <td>1</td>\n",
       "      <td>4</td>\n",
       "      <td>0</td>\n",
       "      <td>65.28</td>\n",
       "      <td>28.2</td>\n",
       "      <td>1</td>\n",
       "      <td>0</td>\n",
       "    </tr>\n",
       "    <tr>\n",
       "      <th>4</th>\n",
       "      <td>0</td>\n",
       "      <td>76.0</td>\n",
       "      <td>1</td>\n",
       "      <td>0</td>\n",
       "      <td>1</td>\n",
       "      <td>5</td>\n",
       "      <td>1</td>\n",
       "      <td>78.68</td>\n",
       "      <td>23.3</td>\n",
       "      <td>1</td>\n",
       "      <td>0</td>\n",
       "    </tr>\n",
       "  </tbody>\n",
       "</table>\n",
       "</div>"
      ],
      "text/plain": [
       "   gender   age hypertension heart_disease ever_married work_type  \\\n",
       "0       0  44.0            0             0            0         4   \n",
       "1       0  31.0            0             0            1         4   \n",
       "2       0  41.0            0             0            1         4   \n",
       "3       1  74.0            0             0            1         4   \n",
       "4       0  76.0            1             0            1         5   \n",
       "\n",
       "  Residence_type  avg_glucose_level   bmi smoking_status stroke  \n",
       "0              1             127.21  29.8              2      0  \n",
       "1              0              75.82  29.1              1      0  \n",
       "2              1             103.79  28.6              1      0  \n",
       "3              0              65.28  28.2              1      0  \n",
       "4              1              78.68  23.3              1      0  "
      ]
     },
     "execution_count": 5,
     "metadata": {},
     "output_type": "execute_result"
    }
   ],
   "source": [
    "#Importing SMOTETEENN oversampled data\n",
    "smn_train = pd.read_csv(\"data/SMOTEENNoversampling_train.csv\", index_col=0).loc[:, 'gender':]\n",
    "\n",
    "#Convert relevant columns into categorical\n",
    "for col in ['hypertension', 'heart_disease', 'ever_married', 'work_type', 'Residence_type', 'smoking_status', 'stroke']:\n",
    "    smn_train[col] = smn_train[col].astype('category')\n",
    "\n",
    "smn_train.head()"
   ]
  },
  {
   "cell_type": "markdown",
   "id": "47754ee7",
   "metadata": {},
   "source": [
    "### 4. ADASYN"
   ]
  },
  {
   "cell_type": "code",
   "execution_count": 6,
   "id": "8806b8e6",
   "metadata": {},
   "outputs": [
    {
     "data": {
      "text/html": [
       "<div>\n",
       "<style scoped>\n",
       "    .dataframe tbody tr th:only-of-type {\n",
       "        vertical-align: middle;\n",
       "    }\n",
       "\n",
       "    .dataframe tbody tr th {\n",
       "        vertical-align: top;\n",
       "    }\n",
       "\n",
       "    .dataframe thead th {\n",
       "        text-align: right;\n",
       "    }\n",
       "</style>\n",
       "<table border=\"1\" class=\"dataframe\">\n",
       "  <thead>\n",
       "    <tr style=\"text-align: right;\">\n",
       "      <th></th>\n",
       "      <th>gender</th>\n",
       "      <th>age</th>\n",
       "      <th>hypertension</th>\n",
       "      <th>heart_disease</th>\n",
       "      <th>ever_married</th>\n",
       "      <th>work_type</th>\n",
       "      <th>Residence_type</th>\n",
       "      <th>avg_glucose_level</th>\n",
       "      <th>bmi</th>\n",
       "      <th>smoking_status</th>\n",
       "      <th>stroke</th>\n",
       "    </tr>\n",
       "  </thead>\n",
       "  <tbody>\n",
       "    <tr>\n",
       "      <th>0</th>\n",
       "      <td>0</td>\n",
       "      <td>44.0</td>\n",
       "      <td>0</td>\n",
       "      <td>0</td>\n",
       "      <td>0</td>\n",
       "      <td>4</td>\n",
       "      <td>1</td>\n",
       "      <td>127.21</td>\n",
       "      <td>29.8</td>\n",
       "      <td>2</td>\n",
       "      <td>0</td>\n",
       "    </tr>\n",
       "    <tr>\n",
       "      <th>1</th>\n",
       "      <td>0</td>\n",
       "      <td>31.0</td>\n",
       "      <td>0</td>\n",
       "      <td>0</td>\n",
       "      <td>1</td>\n",
       "      <td>4</td>\n",
       "      <td>0</td>\n",
       "      <td>75.82</td>\n",
       "      <td>29.1</td>\n",
       "      <td>1</td>\n",
       "      <td>0</td>\n",
       "    </tr>\n",
       "    <tr>\n",
       "      <th>2</th>\n",
       "      <td>0</td>\n",
       "      <td>41.0</td>\n",
       "      <td>0</td>\n",
       "      <td>0</td>\n",
       "      <td>1</td>\n",
       "      <td>4</td>\n",
       "      <td>1</td>\n",
       "      <td>103.79</td>\n",
       "      <td>28.6</td>\n",
       "      <td>1</td>\n",
       "      <td>0</td>\n",
       "    </tr>\n",
       "    <tr>\n",
       "      <th>3</th>\n",
       "      <td>1</td>\n",
       "      <td>74.0</td>\n",
       "      <td>0</td>\n",
       "      <td>0</td>\n",
       "      <td>1</td>\n",
       "      <td>4</td>\n",
       "      <td>0</td>\n",
       "      <td>65.28</td>\n",
       "      <td>28.2</td>\n",
       "      <td>1</td>\n",
       "      <td>0</td>\n",
       "    </tr>\n",
       "    <tr>\n",
       "      <th>4</th>\n",
       "      <td>0</td>\n",
       "      <td>76.0</td>\n",
       "      <td>1</td>\n",
       "      <td>0</td>\n",
       "      <td>1</td>\n",
       "      <td>5</td>\n",
       "      <td>1</td>\n",
       "      <td>78.68</td>\n",
       "      <td>23.3</td>\n",
       "      <td>1</td>\n",
       "      <td>0</td>\n",
       "    </tr>\n",
       "  </tbody>\n",
       "</table>\n",
       "</div>"
      ],
      "text/plain": [
       "   gender   age hypertension heart_disease ever_married work_type  \\\n",
       "0       0  44.0            0             0            0         4   \n",
       "1       0  31.0            0             0            1         4   \n",
       "2       0  41.0            0             0            1         4   \n",
       "3       1  74.0            0             0            1         4   \n",
       "4       0  76.0            1             0            1         5   \n",
       "\n",
       "  Residence_type  avg_glucose_level   bmi smoking_status stroke  \n",
       "0              1             127.21  29.8              2      0  \n",
       "1              0              75.82  29.1              1      0  \n",
       "2              1             103.79  28.6              1      0  \n",
       "3              0              65.28  28.2              1      0  \n",
       "4              1              78.68  23.3              1      0  "
      ]
     },
     "execution_count": 6,
     "metadata": {},
     "output_type": "execute_result"
    }
   ],
   "source": [
    "#Importing ADASYN oversampled data\n",
    "ada_train = pd.read_csv(\"data/ADASYNoversampling_train.csv\", index_col=0).loc[:, 'gender':]\n",
    "\n",
    "#Convert relevant columns into categorical\n",
    "for col in ['hypertension', 'heart_disease', 'ever_married', 'work_type', 'Residence_type', 'smoking_status', 'stroke']:\n",
    "    ada_train[col] = ada_train[col].astype('category')\n",
    "\n",
    "ada_train.head()"
   ]
  },
  {
   "cell_type": "markdown",
   "id": "56ba7c3d",
   "metadata": {},
   "source": [
    "## Test data"
   ]
  },
  {
   "cell_type": "code",
   "execution_count": 7,
   "id": "ca52fda7",
   "metadata": {
    "scrolled": true
   },
   "outputs": [
    {
     "data": {
      "text/html": [
       "<div>\n",
       "<style scoped>\n",
       "    .dataframe tbody tr th:only-of-type {\n",
       "        vertical-align: middle;\n",
       "    }\n",
       "\n",
       "    .dataframe tbody tr th {\n",
       "        vertical-align: top;\n",
       "    }\n",
       "\n",
       "    .dataframe thead th {\n",
       "        text-align: right;\n",
       "    }\n",
       "</style>\n",
       "<table border=\"1\" class=\"dataframe\">\n",
       "  <thead>\n",
       "    <tr style=\"text-align: right;\">\n",
       "      <th></th>\n",
       "      <th>gender</th>\n",
       "      <th>age</th>\n",
       "      <th>hypertension</th>\n",
       "      <th>heart_disease</th>\n",
       "      <th>ever_married</th>\n",
       "      <th>work_type</th>\n",
       "      <th>Residence_type</th>\n",
       "      <th>avg_glucose_level</th>\n",
       "      <th>bmi</th>\n",
       "      <th>smoking_status</th>\n",
       "      <th>stroke</th>\n",
       "    </tr>\n",
       "  </thead>\n",
       "  <tbody>\n",
       "    <tr>\n",
       "      <th>1281</th>\n",
       "      <td>1</td>\n",
       "      <td>8.0</td>\n",
       "      <td>0</td>\n",
       "      <td>0</td>\n",
       "      <td>0</td>\n",
       "      <td>1</td>\n",
       "      <td>1</td>\n",
       "      <td>88.83</td>\n",
       "      <td>18.5</td>\n",
       "      <td>1</td>\n",
       "      <td>0</td>\n",
       "    </tr>\n",
       "    <tr>\n",
       "      <th>1033</th>\n",
       "      <td>1</td>\n",
       "      <td>34.0</td>\n",
       "      <td>0</td>\n",
       "      <td>0</td>\n",
       "      <td>0</td>\n",
       "      <td>4</td>\n",
       "      <td>1</td>\n",
       "      <td>108.47</td>\n",
       "      <td>30.4</td>\n",
       "      <td>2</td>\n",
       "      <td>0</td>\n",
       "    </tr>\n",
       "    <tr>\n",
       "      <th>4910</th>\n",
       "      <td>0</td>\n",
       "      <td>34.0</td>\n",
       "      <td>0</td>\n",
       "      <td>0</td>\n",
       "      <td>0</td>\n",
       "      <td>4</td>\n",
       "      <td>0</td>\n",
       "      <td>69.06</td>\n",
       "      <td>29.0</td>\n",
       "      <td>2</td>\n",
       "      <td>0</td>\n",
       "    </tr>\n",
       "    <tr>\n",
       "      <th>2335</th>\n",
       "      <td>1</td>\n",
       "      <td>48.0</td>\n",
       "      <td>0</td>\n",
       "      <td>0</td>\n",
       "      <td>1</td>\n",
       "      <td>4</td>\n",
       "      <td>0</td>\n",
       "      <td>106.74</td>\n",
       "      <td>33.7</td>\n",
       "      <td>0</td>\n",
       "      <td>0</td>\n",
       "    </tr>\n",
       "    <tr>\n",
       "      <th>607</th>\n",
       "      <td>0</td>\n",
       "      <td>1.8</td>\n",
       "      <td>0</td>\n",
       "      <td>0</td>\n",
       "      <td>0</td>\n",
       "      <td>1</td>\n",
       "      <td>1</td>\n",
       "      <td>102.34</td>\n",
       "      <td>17.0</td>\n",
       "      <td>1</td>\n",
       "      <td>0</td>\n",
       "    </tr>\n",
       "  </tbody>\n",
       "</table>\n",
       "</div>"
      ],
      "text/plain": [
       "      gender   age hypertension heart_disease ever_married work_type  \\\n",
       "1281       1   8.0            0             0            0         1   \n",
       "1033       1  34.0            0             0            0         4   \n",
       "4910       0  34.0            0             0            0         4   \n",
       "2335       1  48.0            0             0            1         4   \n",
       "607        0   1.8            0             0            0         1   \n",
       "\n",
       "     Residence_type  avg_glucose_level   bmi smoking_status stroke  \n",
       "1281              1              88.83  18.5              1      0  \n",
       "1033              1             108.47  30.4              2      0  \n",
       "4910              0              69.06  29.0              2      0  \n",
       "2335              0             106.74  33.7              0      0  \n",
       "607               1             102.34  17.0              1      0  "
      ]
     },
     "execution_count": 7,
     "metadata": {},
     "output_type": "execute_result"
    }
   ],
   "source": [
    "test = pd.read_csv(\"data/test.csv\", index_col=0).loc[:, 'gender':]\n",
    "\n",
    "#Convert relevant columns into categorical\n",
    "for col in ['hypertension', 'heart_disease', 'ever_married', 'work_type', 'Residence_type', 'smoking_status', 'stroke']:\n",
    "    test[col] = test[col].astype('category')\n",
    "    \n",
    "test.head()"
   ]
  },
  {
   "cell_type": "code",
   "execution_count": 8,
   "id": "3a3f12d3",
   "metadata": {},
   "outputs": [],
   "source": [
    "y_test = test['stroke']\n",
    "x_test = test.drop(['stroke'], axis = 1) # Remove the response variable"
   ]
  },
  {
   "cell_type": "markdown",
   "id": "3ebbebde",
   "metadata": {},
   "source": [
    "# Evaluative Metrics for Classification of Train by Logistic Regression\n",
    "\n",
    "To evaluate the performance of our logistic regression model, we will consider five metrics:\n",
    "1. **Accuracy** (The number of classifications a model correctly predicts divided by the total number of predictions made.)\n",
    "2. **Precision** (The ability of a classification model to identify only the relevant data points.)\n",
    "3. **Sensitivity** (Evaluates a model's ability to predict true positives of stroke.)\n",
    "4. **Specificity** (Evaluates a model's ability to predict true negatives of stroke, equivalent to no stroke.)\n",
    "5. **F1-score** (Overall measure that combines precision and recall, where a good F1-score means that you are correctly identifying the relevant class and are not influenced by false alarms.)"
   ]
  },
  {
   "cell_type": "code",
   "execution_count": 9,
   "id": "b4350039",
   "metadata": {},
   "outputs": [],
   "source": [
    "# Creating a function to print the 5 performance metrics we are using to evaluate the performance \n",
    "def metrics(x, y, y_pred, name, title, table):\n",
    "    \n",
    "    #List containing the performance evaluation measures\n",
    "    evlist = []\n",
    "    \n",
    "    #Label Train or Test\n",
    "    if name == 'train':\n",
    "        print(\"Train Data\")\n",
    "    else:\n",
    "        print(\"Test Data\")\n",
    "        \n",
    "    # Print the Accuracy Measures from the Confusion Matrix\n",
    "    CM = confusion_matrix(y, y_pred)\n",
    "    TP = CM[1][1] # True Positives : Y (1) predicted Y (1)\n",
    "    FP = CM[0][1] # False Positives : N (0) predicted Y (1)\n",
    "    TN = CM[0][0] # True Negatives : N (0) predicted N (0)\n",
    "    FN = CM[1][0] # False Negatives : Y (1) predicted N (0)\n",
    "\n",
    "    accuracy = (TP+TN)/(TP+TN+FP+FN)\n",
    "    \n",
    "    if (TP+FP) == 0:\n",
    "        precision = 0.0\n",
    "    else:\n",
    "        precision = TP/(TP+FP)\n",
    "        \n",
    "    if(TP+FN) == 0:\n",
    "        sensitivity = 0.0\n",
    "    else:\n",
    "        sensitivity = TP/(TP+FN)\n",
    "        \n",
    "    if(TN+FP) == 0:\n",
    "        specificity = 0.0\n",
    "    else:\n",
    "        specificity = TN/(TN+FP)\n",
    "        \n",
    "    if(precision + sensitivity) == 0:\n",
    "        f1_score = 0\n",
    "    else:\n",
    "        f1_score = 2*(precision*sensitivity)/(precision+sensitivity)        \n",
    "    \n",
    "    \n",
    "    #Print Performance Evaluation Measures\n",
    "    print(\"Accuracy  :\\t\", accuracy)\n",
    "    print()    \n",
    "    \n",
    "    print(\"Precision :\\t\", precision)\n",
    "    print(\"Sensitivity :\\t\", sensitivity)\n",
    "    print(\"Specificity :\\t\", specificity)\n",
    "    print(\"F1-score :\\t\", f1_score)\n",
    "    \n",
    "    #Store data into list\n",
    "    evlist.append(accuracy)\n",
    "    evlist.append(precision)\n",
    "    evlist.append(sensitivity)\n",
    "    evlist.append(specificity)\n",
    "    evlist.append(f1_score)    \n",
    "    evlist = pd.DataFrame(evlist)\n",
    "    \n",
    "    #Concatenate data as column\n",
    "    table = pd.concat([table, evlist], axis = 1)\n",
    "    \n",
    "    return table\n",
    "\n",
    "# Function to plot two-way confusion matrix\n",
    "def cMatrix(y, y_pred, title):\n",
    "    sb.heatmap(confusion_matrix(y, y_pred), \n",
    "               annot = True, fmt=\".0f\", annot_kws={\"size\": 18})\n",
    "    \n",
    "    plt.xlabel('Predicted')\n",
    "    plt.ylabel('Actual')\n",
    "    plt.title(title)"
   ]
  },
  {
   "cell_type": "code",
   "execution_count": 10,
   "id": "c201f31c",
   "metadata": {},
   "outputs": [],
   "source": [
    "#Creates empty dataframe for future storage of performance evaluation measures\n",
    "train_table = pd.DataFrame()\n",
    "test_table = pd.DataFrame()"
   ]
  },
  {
   "cell_type": "markdown",
   "id": "62b51a32",
   "metadata": {},
   "source": [
    "### 1. Random Sampling Dataset"
   ]
  },
  {
   "cell_type": "code",
   "execution_count": 11,
   "id": "31f39d1f",
   "metadata": {},
   "outputs": [
    {
     "data": {
      "text/html": [
       "<div>\n",
       "<style scoped>\n",
       "    .dataframe tbody tr th:only-of-type {\n",
       "        vertical-align: middle;\n",
       "    }\n",
       "\n",
       "    .dataframe tbody tr th {\n",
       "        vertical-align: top;\n",
       "    }\n",
       "\n",
       "    .dataframe thead th {\n",
       "        text-align: right;\n",
       "    }\n",
       "</style>\n",
       "<table border=\"1\" class=\"dataframe\">\n",
       "  <thead>\n",
       "    <tr style=\"text-align: right;\">\n",
       "      <th></th>\n",
       "      <th>Occurrences</th>\n",
       "    </tr>\n",
       "  </thead>\n",
       "  <tbody>\n",
       "    <tr>\n",
       "      <th>No Stroke</th>\n",
       "      <td>3900</td>\n",
       "    </tr>\n",
       "    <tr>\n",
       "      <th>Stroke</th>\n",
       "      <td>187</td>\n",
       "    </tr>\n",
       "  </tbody>\n",
       "</table>\n",
       "</div>"
      ],
      "text/plain": [
       "           Occurrences\n",
       "No Stroke         3900\n",
       "Stroke             187"
      ]
     },
     "execution_count": 11,
     "metadata": {},
     "output_type": "execute_result"
    }
   ],
   "source": [
    "#Assign x and y values\n",
    "y_train = train['stroke']\n",
    "x_train = train.drop(['stroke'], axis = 1) # Remove the response variable\n",
    "\n",
    "label = pd.DataFrame(y_train.value_counts())\n",
    "label.rename(columns = {'stroke': 'Occurrences'},index={1: \"Stroke\", 0: \"No Stroke\"})"
   ]
  },
  {
   "cell_type": "code",
   "execution_count": 12,
   "id": "8fb7e5a3",
   "metadata": {},
   "outputs": [
    {
     "name": "stdout",
     "output_type": "stream",
     "text": [
      "The probability of having a stroke in train dataset is\t: 0.04575483239540005\n"
     ]
    },
    {
     "data": {
      "text/plain": [
       "LogisticRegression(max_iter=1000)"
      ]
     },
     "execution_count": 12,
     "metadata": {},
     "output_type": "execute_result"
    }
   ],
   "source": [
    "#Calculate probability of stroke\n",
    "print(\"The probability of having a stroke in train dataset is\\t:\", y_train.value_counts()[1]/y_train.count())\n",
    "\n",
    "#Perform the logistics regression\n",
    "logreg1 = LogisticRegression(max_iter = 1000)\n",
    " \n",
    "#Fit the data\n",
    "logreg1.fit(x_train,y_train)"
   ]
  },
  {
   "cell_type": "code",
   "execution_count": 13,
   "id": "7e6e2ba5",
   "metadata": {
    "scrolled": false
   },
   "outputs": [
    {
     "name": "stdout",
     "output_type": "stream",
     "text": [
      "Train Data\n",
      "Accuracy  :\t 0.9544898458527037\n",
      "\n",
      "Precision :\t 0.6666666666666666\n",
      "Sensitivity :\t 0.0106951871657754\n",
      "Specificity :\t 0.9997435897435898\n",
      "F1-score :\t 0.021052631578947368\n"
     ]
    },
    {
     "data": {
      "image/png": "[encoded data removed]",
      "text/plain": [
       "<Figure size 432x288 with 2 Axes>"
      ]
     },
     "metadata": {
      "needs_background": "light"
     },
     "output_type": "display_data"
    }
   ],
   "source": [
    "#Predict the train data\n",
    "y_train_pred = logreg1.predict(x_train)\n",
    "\n",
    "#Visualise the train data\n",
    "train_table = metrics(x_train, y_train, y_train_pred, 'train', 'Random Sampling (Train)',train_table)\n",
    "cMatrix(y_train, y_train_pred, 'Random Sampling (Train)')"
   ]
  },
  {
   "cell_type": "code",
   "execution_count": 14,
   "id": "f20d15aa",
   "metadata": {},
   "outputs": [
    {
     "name": "stdout",
     "output_type": "stream",
     "text": [
      "Test Data\n",
      "Accuracy  :\t 0.9393346379647749\n",
      "\n",
      "Precision :\t 0.0\n",
      "Sensitivity :\t 0.0\n",
      "Specificity :\t 1.0\n",
      "F1-score :\t 0\n"
     ]
    },
    {
     "data": {
      "image/png": "[encoded data removed]",
      "text/plain": [
       "<Figure size 432x288 with 2 Axes>"
      ]
     },
     "metadata": {
      "needs_background": "light"
     },
     "output_type": "display_data"
    }
   ],
   "source": [
    "#Predict the test data\n",
    "y_test_pred = logreg1.predict(x_test)\n",
    "\n",
    "#Visualise the test data\n",
    "test_table = metrics(x_test, y_test, y_test_pred, 'test', 'Random Sampling (Test)',test_table)\n",
    "cMatrix(y_test, y_test_pred, 'Random Sampling (Test)')"
   ]
  },
  {
   "cell_type": "markdown",
   "id": "8abcd2b5",
   "metadata": {},
   "source": [
    "### 2. SMOTE Dataset"
   ]
  },
  {
   "cell_type": "code",
   "execution_count": 15,
   "id": "5bb3a6c2",
   "metadata": {},
   "outputs": [
    {
     "data": {
      "text/html": [
       "<div>\n",
       "<style scoped>\n",
       "    .dataframe tbody tr th:only-of-type {\n",
       "        vertical-align: middle;\n",
       "    }\n",
       "\n",
       "    .dataframe tbody tr th {\n",
       "        vertical-align: top;\n",
       "    }\n",
       "\n",
       "    .dataframe thead th {\n",
       "        text-align: right;\n",
       "    }\n",
       "</style>\n",
       "<table border=\"1\" class=\"dataframe\">\n",
       "  <thead>\n",
       "    <tr style=\"text-align: right;\">\n",
       "      <th></th>\n",
       "      <th>Occurrences</th>\n",
       "    </tr>\n",
       "  </thead>\n",
       "  <tbody>\n",
       "    <tr>\n",
       "      <th>No Stroke</th>\n",
       "      <td>3900</td>\n",
       "    </tr>\n",
       "    <tr>\n",
       "      <th>Stroke</th>\n",
       "      <td>3900</td>\n",
       "    </tr>\n",
       "  </tbody>\n",
       "</table>\n",
       "</div>"
      ],
      "text/plain": [
       "           Occurrences\n",
       "No Stroke         3900\n",
       "Stroke            3900"
      ]
     },
     "execution_count": 15,
     "metadata": {},
     "output_type": "execute_result"
    }
   ],
   "source": [
    "#Assign x and y values\n",
    "y_train = sme_train['stroke']\n",
    "x_train = sme_train.drop(['stroke'], axis = 1) # Remove the response variable\n",
    "\n",
    "label = pd.DataFrame(y_train.value_counts())\n",
    "label.rename(columns = {'stroke': 'Occurrences'},index={1: \"Stroke\", 0: \"No Stroke\"})"
   ]
  },
  {
   "cell_type": "code",
   "execution_count": 16,
   "id": "2a191839",
   "metadata": {
    "scrolled": true
   },
   "outputs": [
    {
     "name": "stdout",
     "output_type": "stream",
     "text": [
      "The probability of having a stroke in train dataset is\t: 0.5\n"
     ]
    },
    {
     "data": {
      "text/plain": [
       "LogisticRegression(max_iter=1000)"
      ]
     },
     "execution_count": 16,
     "metadata": {},
     "output_type": "execute_result"
    }
   ],
   "source": [
    "#Calculate probability of stroke\n",
    "print(\"The probability of having a stroke in train dataset is\\t:\", y_train.value_counts()[1]/y_train.count())\n",
    "\n",
    "#Perform the logistics regression\n",
    "logreg2 = LogisticRegression(max_iter = 1000)\n",
    " \n",
    "#Fit the data\n",
    "logreg2.fit(x_train,y_train)"
   ]
  },
  {
   "cell_type": "code",
   "execution_count": 17,
   "id": "72ce0a45",
   "metadata": {},
   "outputs": [
    {
     "name": "stdout",
     "output_type": "stream",
     "text": [
      "Train Data\n",
      "Accuracy  :\t 0.8361538461538461\n",
      "\n",
      "Precision :\t 0.8254716981132075\n",
      "Sensitivity :\t 0.8525641025641025\n",
      "Specificity :\t 0.8197435897435897\n",
      "F1-score :\t 0.8387991927346115\n"
     ]
    },
    {
     "data": {
      "image/png": "[encoded data removed]",
      "text/plain": [
       "<Figure size 432x288 with 2 Axes>"
      ]
     },
     "metadata": {
      "needs_background": "light"
     },
     "output_type": "display_data"
    }
   ],
   "source": [
    "#Predict the train data\n",
    "y_train_pred = logreg2.predict(x_train)\n",
    "\n",
    "#Visualise the train data\n",
    "train_table = metrics(x_train, y_train, y_train_pred, 'train', 'SMOTE (Train)', train_table)\n",
    "cMatrix(y_train, y_train_pred, 'SMOTE (Train)')"
   ]
  },
  {
   "cell_type": "code",
   "execution_count": 18,
   "id": "dbe1d151",
   "metadata": {},
   "outputs": [
    {
     "name": "stdout",
     "output_type": "stream",
     "text": [
      "Test Data\n",
      "Accuracy  :\t 0.7847358121330724\n",
      "\n",
      "Precision :\t 0.14732142857142858\n",
      "Sensitivity :\t 0.532258064516129\n",
      "Specificity :\t 0.8010416666666667\n",
      "F1-score :\t 0.23076923076923075\n"
     ]
    },
    {
     "data": {
      "image/png": "[encoded data removed]",
      "text/plain": [
       "<Figure size 432x288 with 2 Axes>"
      ]
     },
     "metadata": {
      "needs_background": "light"
     },
     "output_type": "display_data"
    }
   ],
   "source": [
    "#Predict the test data\n",
    "y_test_pred = logreg2.predict(x_test)\n",
    "\n",
    "#Visualise the test data\n",
    "test_table = metrics(x_test, y_test, y_test_pred, 'test', 'SMOTE (Test)', test_table)\n",
    "cMatrix(y_test, y_test_pred, 'SMOTE (Test)')"
   ]
  },
  {
   "cell_type": "markdown",
   "id": "00ae41c3",
   "metadata": {},
   "source": [
    "<!-- ### Classification of SMOTE-Tomek -->"
   ]
  },
  {
   "cell_type": "markdown",
   "id": "bdc79de1",
   "metadata": {},
   "source": [
    "### 3. SMOTEENN Dataset"
   ]
  },
  {
   "cell_type": "code",
   "execution_count": 19,
   "id": "e37335a9",
   "metadata": {},
   "outputs": [
    {
     "data": {
      "text/html": [
       "<div>\n",
       "<style scoped>\n",
       "    .dataframe tbody tr th:only-of-type {\n",
       "        vertical-align: middle;\n",
       "    }\n",
       "\n",
       "    .dataframe tbody tr th {\n",
       "        vertical-align: top;\n",
       "    }\n",
       "\n",
       "    .dataframe thead th {\n",
       "        text-align: right;\n",
       "    }\n",
       "</style>\n",
       "<table border=\"1\" class=\"dataframe\">\n",
       "  <thead>\n",
       "    <tr style=\"text-align: right;\">\n",
       "      <th></th>\n",
       "      <th>stroke</th>\n",
       "    </tr>\n",
       "  </thead>\n",
       "  <tbody>\n",
       "    <tr>\n",
       "      <th>Stroke</th>\n",
       "      <td>3900</td>\n",
       "    </tr>\n",
       "    <tr>\n",
       "      <th>No Stroke</th>\n",
       "      <td>3892</td>\n",
       "    </tr>\n",
       "  </tbody>\n",
       "</table>\n",
       "</div>"
      ],
      "text/plain": [
       "           stroke\n",
       "Stroke       3900\n",
       "No Stroke    3892"
      ]
     },
     "execution_count": 19,
     "metadata": {},
     "output_type": "execute_result"
    }
   ],
   "source": [
    "#Assign x and y values\n",
    "y_train = smn_train['stroke']\n",
    "x_train = smn_train.drop(['stroke'], axis = 1) # Remove the response variable\n",
    "\n",
    "label = pd.DataFrame(y_train.value_counts())\n",
    "label.rename(index={1: \"Stroke\", 0: \"No Stroke\"})"
   ]
  },
  {
   "cell_type": "code",
   "execution_count": 20,
   "id": "6cd03eca",
   "metadata": {},
   "outputs": [
    {
     "name": "stdout",
     "output_type": "stream",
     "text": [
      "The probability of having a stroke in train dataset is\t:  0.49948665297741274\n"
     ]
    },
    {
     "data": {
      "text/plain": [
       "LogisticRegression(max_iter=1000)"
      ]
     },
     "execution_count": 20,
     "metadata": {},
     "output_type": "execute_result"
    }
   ],
   "source": [
    "#Calculate probability of stroke\n",
    "print(\"The probability of having a stroke in train dataset is\\t: \", y_train.value_counts()[1]/y_train.count())\n",
    "\n",
    "#Perform the logistics regression\n",
    "logreg3 = LogisticRegression(max_iter = 1000)\n",
    " \n",
    "#Fit the data\n",
    "logreg3.fit(x_train,y_train)"
   ]
  },
  {
   "cell_type": "code",
   "execution_count": 21,
   "id": "2a52618a",
   "metadata": {},
   "outputs": [
    {
     "name": "stdout",
     "output_type": "stream",
     "text": [
      "Train Data\n",
      "Accuracy  :\t 0.8364989733059548\n",
      "\n",
      "Precision :\t 0.8258064516129032\n",
      "Sensitivity :\t 0.8533333333333334\n",
      "Specificity :\t 0.8196300102774923\n",
      "F1-score :\t 0.839344262295082\n"
     ]
    },
    {
     "data": {
      "image/png": "[encoded data removed]",
      "text/plain": [
       "<Figure size 432x288 with 2 Axes>"
      ]
     },
     "metadata": {
      "needs_background": "light"
     },
     "output_type": "display_data"
    }
   ],
   "source": [
    "#Predict the train data\n",
    "y_train_pred = logreg3.predict(x_train)\n",
    "\n",
    "#Visualise the train data\n",
    "train_table = metrics(x_train, y_train, y_train_pred, 'train', 'SMOTEENN (Train)', train_table)\n",
    "cMatrix(y_train, y_train_pred, 'SMOTEENN (Train)')"
   ]
  },
  {
   "cell_type": "code",
   "execution_count": 22,
   "id": "f3bddcf2",
   "metadata": {
    "scrolled": false
   },
   "outputs": [
    {
     "name": "stdout",
     "output_type": "stream",
     "text": [
      "Test Data\n",
      "Accuracy  :\t 0.7847358121330724\n",
      "\n",
      "Precision :\t 0.14732142857142858\n",
      "Sensitivity :\t 0.532258064516129\n",
      "Specificity :\t 0.8010416666666667\n",
      "F1-score :\t 0.23076923076923075\n"
     ]
    },
    {
     "data": {
      "image/png": "[encoded data removed]",
      "text/plain": [
       "<Figure size 432x288 with 2 Axes>"
      ]
     },
     "metadata": {
      "needs_background": "light"
     },
     "output_type": "display_data"
    }
   ],
   "source": [
    "#Predict the test data\n",
    "y_test_pred = logreg3.predict(x_test)\n",
    "\n",
    "#Visualise the test data\n",
    "test_table = metrics(x_test, y_test, y_test_pred, 'test', 'SMOTEENN (Test)', test_table)\n",
    "cMatrix(y_test, y_test_pred, 'SMOTEENN (Test)')"
   ]
  },
  {
   "cell_type": "markdown",
   "id": "6e19ad6b",
   "metadata": {},
   "source": [
    "### 4. ADASYN Dataset"
   ]
  },
  {
   "cell_type": "code",
   "execution_count": 23,
   "id": "aec12509",
   "metadata": {},
   "outputs": [
    {
     "data": {
      "text/html": [
       "<div>\n",
       "<style scoped>\n",
       "    .dataframe tbody tr th:only-of-type {\n",
       "        vertical-align: middle;\n",
       "    }\n",
       "\n",
       "    .dataframe tbody tr th {\n",
       "        vertical-align: top;\n",
       "    }\n",
       "\n",
       "    .dataframe thead th {\n",
       "        text-align: right;\n",
       "    }\n",
       "</style>\n",
       "<table border=\"1\" class=\"dataframe\">\n",
       "  <thead>\n",
       "    <tr style=\"text-align: right;\">\n",
       "      <th></th>\n",
       "      <th>Occurrences</th>\n",
       "    </tr>\n",
       "  </thead>\n",
       "  <tbody>\n",
       "    <tr>\n",
       "      <th>Stroke</th>\n",
       "      <td>3902</td>\n",
       "    </tr>\n",
       "    <tr>\n",
       "      <th>No Stroke</th>\n",
       "      <td>3900</td>\n",
       "    </tr>\n",
       "  </tbody>\n",
       "</table>\n",
       "</div>"
      ],
      "text/plain": [
       "           Occurrences\n",
       "Stroke            3902\n",
       "No Stroke         3900"
      ]
     },
     "execution_count": 23,
     "metadata": {},
     "output_type": "execute_result"
    }
   ],
   "source": [
    "#Assign x and y values\n",
    "y_train = ada_train['stroke']\n",
    "x_train = ada_train.drop(['stroke'], axis = 1) # Remove the response variable\n",
    "\n",
    "label = pd.DataFrame(y_train.value_counts())\n",
    "label.rename(columns = {'stroke': 'Occurrences'},index={1: \"Stroke\", 0: \"No Stroke\"})"
   ]
  },
  {
   "cell_type": "code",
   "execution_count": 24,
   "id": "10db63e2",
   "metadata": {},
   "outputs": [
    {
     "name": "stdout",
     "output_type": "stream",
     "text": [
      "The probability of having a stroke in train dataset is\t:  0.4998718277364778\n",
      "The overall classification accuracy \t\t:  0.7915851272015656\n"
     ]
    }
   ],
   "source": [
    "#Calculate probability of stroke\n",
    "print(\"The probability of having a stroke in train dataset is\\t: \", y_train.value_counts()[1]/y_train.count())\n",
    "\n",
    "#Perform the logistics regression\n",
    "logreg4 = LogisticRegression(max_iter = 1000)\n",
    " \n",
    "#Fit the data\n",
    "logreg4.fit(x_train,y_train)\n",
    "\n",
    "#Print out the classification accuracy\n",
    "print(\"The overall classification accuracy \\t\\t: \", logreg4.score(x_test,y_test))"
   ]
  },
  {
   "cell_type": "code",
   "execution_count": 25,
   "id": "dc6c0814",
   "metadata": {},
   "outputs": [
    {
     "name": "stdout",
     "output_type": "stream",
     "text": [
      "Train Data\n",
      "Accuracy  :\t 0.8555498590105102\n",
      "\n",
      "Precision :\t 0.831858407079646\n",
      "Sensitivity :\t 0.8913377754997437\n",
      "Specificity :\t 0.8197435897435897\n",
      "F1-score :\t 0.860571569961648\n"
     ]
    },
    {
     "data": {
      "image/png": "[encoded data removed]",
      "text/plain": [
       "<Figure size 432x288 with 2 Axes>"
      ]
     },
     "metadata": {
      "needs_background": "light"
     },
     "output_type": "display_data"
    }
   ],
   "source": [
    "#Predict the train data\n",
    "y_train_pred = logreg4.predict(x_train)\n",
    "\n",
    "#Visualise the train data\n",
    "train_table = metrics(x_train, y_train, y_train_pred, 'train', 'ADASYN (Train)', train_table)\n",
    "cMatrix(y_train, y_train_pred, 'ADASYN (Train)')"
   ]
  },
  {
   "cell_type": "code",
   "execution_count": 26,
   "id": "4f595a00",
   "metadata": {},
   "outputs": [
    {
     "name": "stdout",
     "output_type": "stream",
     "text": [
      "Test Data\n",
      "Accuracy  :\t 0.7915851272015656\n",
      "\n",
      "Precision :\t 0.1552511415525114\n",
      "Sensitivity :\t 0.5483870967741935\n",
      "Specificity :\t 0.8072916666666666\n",
      "F1-score :\t 0.24199288256227758\n"
     ]
    },
    {
     "data": {
      "image/png": "[encoded data removed]",
      "text/plain": [
       "<Figure size 432x288 with 2 Axes>"
      ]
     },
     "metadata": {
      "needs_background": "light"
     },
     "output_type": "display_data"
    }
   ],
   "source": [
    "#Predict the test data\n",
    "y_test_pred = logreg4.predict(x_test)\n",
    "\n",
    "#Visualise the test data\n",
    "test_table = metrics(x_test, y_test, y_test_pred, 'test', 'ADASYN (Test)', test_table)\n",
    "cMatrix(y_test, y_test_pred, 'ADASYN (Test)')"
   ]
  },
  {
   "cell_type": "markdown",
   "id": "bc29babd",
   "metadata": {},
   "source": [
    "# Comparison of the Metrics"
   ]
  },
  {
   "cell_type": "markdown",
   "id": "501c36bd",
   "metadata": {},
   "source": [
    "## Function for Graph Creation"
   ]
  },
  {
   "cell_type": "code",
   "execution_count": 27,
   "id": "408d55f3",
   "metadata": {},
   "outputs": [],
   "source": [
    "def graphing(table, row, title):\n",
    "    \n",
    "    plt.figure(figsize=(8, 6))\n",
    "    plt.title(title)\n",
    "    plt.ylim([0,1.1])\n",
    "    plot = sb.barplot(x = ['Random Sampling', 'SMOTE', 'SMOTEENN', 'ADASYN'], y = table.iloc[row,:])\n",
    "    for x in plot.patches:\n",
    "        if x.get_height() == 0:\n",
    "            plot.annotate(format(x.get_height(), '.3f'), \n",
    "                           (x.get_x() + x.get_width() / 2., x.get_height()), \n",
    "                           ha = 'center', va = 'center', \n",
    "                           xytext = (0, 9), \n",
    "                           fontsize = 14, \n",
    "                           textcoords = 'offset points')\n",
    "        else:\n",
    "            plot.annotate(format(x.get_height(), '.3f'), \n",
    "                           (x.get_x() + x.get_width() / 2., x.get_height()), \n",
    "                           ha = 'center', va = 'center', \n",
    "                           xytext = (0, 9), \n",
    "                           fontsize = 14, \n",
    "                           textcoords = 'offset points')"
   ]
  },
  {
   "cell_type": "markdown",
   "id": "a86d979c",
   "metadata": {},
   "source": [
    "## Visualising train data"
   ]
  },
  {
   "cell_type": "markdown",
   "id": "8064d328",
   "metadata": {},
   "source": [
    "### Setting the Axis and returning the Table of the stored metrics for Train"
   ]
  },
  {
   "cell_type": "code",
   "execution_count": 28,
   "id": "a45ed087",
   "metadata": {},
   "outputs": [
    {
     "data": {
      "text/html": [
       "<div>\n",
       "<style scoped>\n",
       "    .dataframe tbody tr th:only-of-type {\n",
       "        vertical-align: middle;\n",
       "    }\n",
       "\n",
       "    .dataframe tbody tr th {\n",
       "        vertical-align: top;\n",
       "    }\n",
       "\n",
       "    .dataframe thead th {\n",
       "        text-align: right;\n",
       "    }\n",
       "</style>\n",
       "<table border=\"1\" class=\"dataframe\">\n",
       "  <thead>\n",
       "    <tr style=\"text-align: right;\">\n",
       "      <th></th>\n",
       "      <th>Random Sampling</th>\n",
       "      <th>SMOTE</th>\n",
       "      <th>SMOTEENN</th>\n",
       "      <th>ADASYN</th>\n",
       "    </tr>\n",
       "  </thead>\n",
       "  <tbody>\n",
       "    <tr>\n",
       "      <th>Accuracy</th>\n",
       "      <td>0.954490</td>\n",
       "      <td>0.836154</td>\n",
       "      <td>0.836499</td>\n",
       "      <td>0.855550</td>\n",
       "    </tr>\n",
       "    <tr>\n",
       "      <th>Precision</th>\n",
       "      <td>0.666667</td>\n",
       "      <td>0.825472</td>\n",
       "      <td>0.825806</td>\n",
       "      <td>0.831858</td>\n",
       "    </tr>\n",
       "    <tr>\n",
       "      <th>Sensitivity</th>\n",
       "      <td>0.010695</td>\n",
       "      <td>0.852564</td>\n",
       "      <td>0.853333</td>\n",
       "      <td>0.891338</td>\n",
       "    </tr>\n",
       "    <tr>\n",
       "      <th>Specificity</th>\n",
       "      <td>0.999744</td>\n",
       "      <td>0.819744</td>\n",
       "      <td>0.819630</td>\n",
       "      <td>0.819744</td>\n",
       "    </tr>\n",
       "    <tr>\n",
       "      <th>F1-Score</th>\n",
       "      <td>0.021053</td>\n",
       "      <td>0.838799</td>\n",
       "      <td>0.839344</td>\n",
       "      <td>0.860572</td>\n",
       "    </tr>\n",
       "  </tbody>\n",
       "</table>\n",
       "</div>"
      ],
      "text/plain": [
       "             Random Sampling     SMOTE  SMOTEENN    ADASYN\n",
       "Accuracy            0.954490  0.836154  0.836499  0.855550\n",
       "Precision           0.666667  0.825472  0.825806  0.831858\n",
       "Sensitivity         0.010695  0.852564  0.853333  0.891338\n",
       "Specificity         0.999744  0.819744  0.819630  0.819744\n",
       "F1-Score            0.021053  0.838799  0.839344  0.860572"
      ]
     },
     "execution_count": 28,
     "metadata": {},
     "output_type": "execute_result"
    }
   ],
   "source": [
    "train_table = train_table.set_axis(['Random Sampling', 'SMOTE', 'SMOTEENN', 'ADASYN'], axis = 1)\n",
    "train_table = train_table.set_axis(['Accuracy','Precision', 'Sensitivity', 'Specificity', 'F1-Score'], axis = 0)\n",
    "train_table"
   ]
  },
  {
   "cell_type": "markdown",
   "id": "82424fe8",
   "metadata": {},
   "source": [
    "### Accuracy across the datasets (Train)"
   ]
  },
  {
   "cell_type": "code",
   "execution_count": 29,
   "id": "b5d99403",
   "metadata": {
    "scrolled": false
   },
   "outputs": [
    {
     "data": {
      "image/png": "[encoded data removed]",
      "text/plain": [
       "<Figure size 576x432 with 1 Axes>"
      ]
     },
     "metadata": {
      "needs_background": "light"
     },
     "output_type": "display_data"
    }
   ],
   "source": [
    "graphing(train_table, 0, \"Accuracy\")"
   ]
  },
  {
   "cell_type": "markdown",
   "id": "5e44af91",
   "metadata": {},
   "source": [
    "### Precision across the datasets (Train)"
   ]
  },
  {
   "cell_type": "code",
   "execution_count": 30,
   "id": "cc6f896a",
   "metadata": {
    "scrolled": false
   },
   "outputs": [
    {
     "data": {
      "image/png": "[encoded data removed]",
      "text/plain": [
       "<Figure size 576x432 with 1 Axes>"
      ]
     },
     "metadata": {
      "needs_background": "light"
     },
     "output_type": "display_data"
    }
   ],
   "source": [
    "graphing(train_table, 1, \"Precision\")"
   ]
  },
  {
   "cell_type": "markdown",
   "id": "3bd34ed6",
   "metadata": {},
   "source": [
    "### Sensitivity across the datasets (Train)"
   ]
  },
  {
   "cell_type": "code",
   "execution_count": 31,
   "id": "35990213",
   "metadata": {},
   "outputs": [
    {
     "data": {
      "image/png": "[encoded data removed]",
      "text/plain": [
       "<Figure size 576x432 with 1 Axes>"
      ]
     },
     "metadata": {
      "needs_background": "light"
     },
     "output_type": "display_data"
    }
   ],
   "source": [
    "graphing(train_table, 2, \"Sensitivity\")"
   ]
  },
  {
   "cell_type": "markdown",
   "id": "e798d503",
   "metadata": {},
   "source": [
    "### Specificity across the datasets (Train)"
   ]
  },
  {
   "cell_type": "code",
   "execution_count": 32,
   "id": "fc35a456",
   "metadata": {},
   "outputs": [
    {
     "data": {
      "image/png": "[encoded data removed]",
      "text/plain": [
       "<Figure size 576x432 with 1 Axes>"
      ]
     },
     "metadata": {
      "needs_background": "light"
     },
     "output_type": "display_data"
    }
   ],
   "source": [
    "graphing(train_table, 3, \"Specificity\")"
   ]
  },
  {
   "cell_type": "markdown",
   "id": "98db13b4",
   "metadata": {},
   "source": [
    "### F1-Score across the datasets (Train)"
   ]
  },
  {
   "cell_type": "code",
   "execution_count": 33,
   "id": "918377dc",
   "metadata": {
    "scrolled": false
   },
   "outputs": [
    {
     "data": {
      "image/png": "[encoded data removed]",
      "text/plain": [
       "<Figure size 576x432 with 1 Axes>"
      ]
     },
     "metadata": {
      "needs_background": "light"
     },
     "output_type": "display_data"
    }
   ],
   "source": [
    "graphing(train_table, 4, \"F1-Score\")"
   ]
  },
  {
   "cell_type": "markdown",
   "id": "9ffca975",
   "metadata": {},
   "source": [
    "### Setting the Axis and returning the Table of the stored metrics for Test"
   ]
  },
  {
   "cell_type": "code",
   "execution_count": 34,
   "id": "b1bc9549",
   "metadata": {},
   "outputs": [
    {
     "data": {
      "text/html": [
       "<div>\n",
       "<style scoped>\n",
       "    .dataframe tbody tr th:only-of-type {\n",
       "        vertical-align: middle;\n",
       "    }\n",
       "\n",
       "    .dataframe tbody tr th {\n",
       "        vertical-align: top;\n",
       "    }\n",
       "\n",
       "    .dataframe thead th {\n",
       "        text-align: right;\n",
       "    }\n",
       "</style>\n",
       "<table border=\"1\" class=\"dataframe\">\n",
       "  <thead>\n",
       "    <tr style=\"text-align: right;\">\n",
       "      <th></th>\n",
       "      <th>Random Sampling</th>\n",
       "      <th>SMOTE</th>\n",
       "      <th>SMOTEENN</th>\n",
       "      <th>ADASYN</th>\n",
       "    </tr>\n",
       "  </thead>\n",
       "  <tbody>\n",
       "    <tr>\n",
       "      <th>Accuracy</th>\n",
       "      <td>0.939335</td>\n",
       "      <td>0.784736</td>\n",
       "      <td>0.784736</td>\n",
       "      <td>0.791585</td>\n",
       "    </tr>\n",
       "    <tr>\n",
       "      <th>Precision</th>\n",
       "      <td>0.000000</td>\n",
       "      <td>0.147321</td>\n",
       "      <td>0.147321</td>\n",
       "      <td>0.155251</td>\n",
       "    </tr>\n",
       "    <tr>\n",
       "      <th>Sensitivity</th>\n",
       "      <td>0.000000</td>\n",
       "      <td>0.532258</td>\n",
       "      <td>0.532258</td>\n",
       "      <td>0.548387</td>\n",
       "    </tr>\n",
       "    <tr>\n",
       "      <th>Specificity</th>\n",
       "      <td>1.000000</td>\n",
       "      <td>0.801042</td>\n",
       "      <td>0.801042</td>\n",
       "      <td>0.807292</td>\n",
       "    </tr>\n",
       "    <tr>\n",
       "      <th>F1-Score</th>\n",
       "      <td>0.000000</td>\n",
       "      <td>0.230769</td>\n",
       "      <td>0.230769</td>\n",
       "      <td>0.241993</td>\n",
       "    </tr>\n",
       "  </tbody>\n",
       "</table>\n",
       "</div>"
      ],
      "text/plain": [
       "             Random Sampling     SMOTE  SMOTEENN    ADASYN\n",
       "Accuracy            0.939335  0.784736  0.784736  0.791585\n",
       "Precision           0.000000  0.147321  0.147321  0.155251\n",
       "Sensitivity         0.000000  0.532258  0.532258  0.548387\n",
       "Specificity         1.000000  0.801042  0.801042  0.807292\n",
       "F1-Score            0.000000  0.230769  0.230769  0.241993"
      ]
     },
     "execution_count": 34,
     "metadata": {},
     "output_type": "execute_result"
    }
   ],
   "source": [
    "test_table = test_table.set_axis(['Random Sampling', 'SMOTE', 'SMOTEENN', 'ADASYN'], axis = 1)\n",
    "test_table = test_table.set_axis(['Accuracy','Precision', 'Sensitivity', 'Specificity', 'F1-Score'], axis = 0)\n",
    "test_table"
   ]
  },
  {
   "cell_type": "markdown",
   "id": "cc58b3b2",
   "metadata": {},
   "source": [
    "### Accuracy across the datasets (Test)"
   ]
  },
  {
   "cell_type": "code",
   "execution_count": 35,
   "id": "ee8df6b1",
   "metadata": {},
   "outputs": [
    {
     "data": {
      "image/png": "[encoded data removed]",
      "text/plain": [
       "<Figure size 576x432 with 1 Axes>"
      ]
     },
     "metadata": {
      "needs_background": "light"
     },
     "output_type": "display_data"
    }
   ],
   "source": [
    "graphing(test_table, 0, \"Accuracy\")"
   ]
  },
  {
   "cell_type": "markdown",
   "id": "1aad6709",
   "metadata": {},
   "source": [
    "### Precision across the datasets (Test)"
   ]
  },
  {
   "cell_type": "code",
   "execution_count": 36,
   "id": "6f6a75a6",
   "metadata": {},
   "outputs": [
    {
     "data": {
      "image/png": "[encoded data removed]",
      "text/plain": [
       "<Figure size 576x432 with 1 Axes>"
      ]
     },
     "metadata": {
      "needs_background": "light"
     },
     "output_type": "display_data"
    }
   ],
   "source": [
    "graphing(test_table, 1, \"Precision\")"
   ]
  },
  {
   "cell_type": "markdown",
   "id": "13cc9998",
   "metadata": {},
   "source": [
    "### Sensitivity across the datasets (Test)"
   ]
  },
  {
   "cell_type": "code",
   "execution_count": 37,
   "id": "29bcf2bd",
   "metadata": {},
   "outputs": [
    {
     "data": {
      "image/png": "[encoded data removed]",
      "text/plain": [
       "<Figure size 576x432 with 1 Axes>"
      ]
     },
     "metadata": {
      "needs_background": "light"
     },
     "output_type": "display_data"
    }
   ],
   "source": [
    "graphing(test_table, 2, \"Sensitivity\")"
   ]
  },
  {
   "cell_type": "markdown",
   "id": "c63c63e9",
   "metadata": {},
   "source": [
    "### Specificity across the datasets (Test)"
   ]
  },
  {
   "cell_type": "code",
   "execution_count": 38,
   "id": "e7dd6e5f",
   "metadata": {},
   "outputs": [
    {
     "data": {
      "image/png": "[encoded data removed]",
      "text/plain": [
       "<Figure size 576x432 with 1 Axes>"
      ]
     },
     "metadata": {
      "needs_background": "light"
     },
     "output_type": "display_data"
    }
   ],
   "source": [
    "graphing(test_table, 3, \"Specificity\")"
   ]
  },
  {
   "cell_type": "markdown",
   "id": "5a42faac",
   "metadata": {},
   "source": [
    "### F1-Score across the datasets (Test)"
   ]
  },
  {
   "cell_type": "code",
   "execution_count": 39,
   "id": "aca5de6c",
   "metadata": {
    "scrolled": false
   },
   "outputs": [
    {
     "data": {
      "image/png": "[encoded data removed]",
      "text/plain": [
       "<Figure size 576x432 with 1 Axes>"
      ]
     },
     "metadata": {
      "needs_background": "light"
     },
     "output_type": "display_data"
    }
   ],
   "source": [
    "graphing(test_table, 4, \"F1-Score\")"
   ]
  },
  {
   "cell_type": "markdown",
   "id": "a0c44779",
   "metadata": {},
   "source": [
    "# Analysis of Results (Test)"
   ]
  },
  {
   "cell_type": "code",
   "execution_count": 40,
   "id": "fb9fc482",
   "metadata": {},
   "outputs": [
    {
     "data": {
      "text/html": [
       "<div>\n",
       "<style scoped>\n",
       "    .dataframe tbody tr th:only-of-type {\n",
       "        vertical-align: middle;\n",
       "    }\n",
       "\n",
       "    .dataframe tbody tr th {\n",
       "        vertical-align: top;\n",
       "    }\n",
       "\n",
       "    .dataframe thead th {\n",
       "        text-align: right;\n",
       "    }\n",
       "</style>\n",
       "<table border=\"1\" class=\"dataframe\">\n",
       "  <thead>\n",
       "    <tr style=\"text-align: right;\">\n",
       "      <th></th>\n",
       "      <th>Random Sampling</th>\n",
       "      <th>SMOTE</th>\n",
       "      <th>SMOTEENN</th>\n",
       "      <th>ADASYN</th>\n",
       "    </tr>\n",
       "  </thead>\n",
       "  <tbody>\n",
       "    <tr>\n",
       "      <th>Accuracy</th>\n",
       "      <td>0.939335</td>\n",
       "      <td>0.784736</td>\n",
       "      <td>0.784736</td>\n",
       "      <td>0.791585</td>\n",
       "    </tr>\n",
       "    <tr>\n",
       "      <th>Precision</th>\n",
       "      <td>0.000000</td>\n",
       "      <td>0.147321</td>\n",
       "      <td>0.147321</td>\n",
       "      <td>0.155251</td>\n",
       "    </tr>\n",
       "    <tr>\n",
       "      <th>Sensitivity</th>\n",
       "      <td>0.000000</td>\n",
       "      <td>0.532258</td>\n",
       "      <td>0.532258</td>\n",
       "      <td>0.548387</td>\n",
       "    </tr>\n",
       "    <tr>\n",
       "      <th>Specificity</th>\n",
       "      <td>1.000000</td>\n",
       "      <td>0.801042</td>\n",
       "      <td>0.801042</td>\n",
       "      <td>0.807292</td>\n",
       "    </tr>\n",
       "    <tr>\n",
       "      <th>F1-Score</th>\n",
       "      <td>0.000000</td>\n",
       "      <td>0.230769</td>\n",
       "      <td>0.230769</td>\n",
       "      <td>0.241993</td>\n",
       "    </tr>\n",
       "  </tbody>\n",
       "</table>\n",
       "</div>"
      ],
      "text/plain": [
       "             Random Sampling     SMOTE  SMOTEENN    ADASYN\n",
       "Accuracy            0.939335  0.784736  0.784736  0.791585\n",
       "Precision           0.000000  0.147321  0.147321  0.155251\n",
       "Sensitivity         0.000000  0.532258  0.532258  0.548387\n",
       "Specificity         1.000000  0.801042  0.801042  0.807292\n",
       "F1-Score            0.000000  0.230769  0.230769  0.241993"
      ]
     },
     "execution_count": 40,
     "metadata": {},
     "output_type": "execute_result"
    }
   ],
   "source": [
    "test_table = test_table.set_axis(['Random Sampling', 'SMOTE', 'SMOTEENN', 'ADASYN'], axis = 1)\n",
    "test_table = test_table.set_axis(['Accuracy','Precision', 'Sensitivity', 'Specificity', 'F1-Score'], axis = 0)\n",
    "test_table"
   ]
  },
  {
   "cell_type": "markdown",
   "id": "25efb38e",
   "metadata": {},
   "source": [
    "## Guide"
   ]
  },
  {
   "cell_type": "markdown",
   "id": "d516ed8f",
   "metadata": {},
   "source": [
    "- **TP:** People correctly predicted to have a stroke\n",
    "- **FP:** People wrongly predicted to have a stroke\n",
    "- **TN:** People correctly predicted not to have a stroke\n",
    "- **FN:** People wrongly predicted not to have a stroke"
   ]
  },
  {
   "cell_type": "markdown",
   "id": "3354bc6b",
   "metadata": {},
   "source": [
    "## Accuracy"
   ]
  },
  {
   "cell_type": "code",
   "execution_count": 41,
   "id": "2c530c9a",
   "metadata": {},
   "outputs": [
    {
     "data": {
      "text/plain": [
       "Random Sampling    0.939335\n",
       "ADASYN             0.791585\n",
       "SMOTE              0.784736\n",
       "SMOTEENN           0.784736\n",
       "Name: Accuracy, dtype: float64"
      ]
     },
     "execution_count": 41,
     "metadata": {},
     "output_type": "execute_result"
    }
   ],
   "source": [
    "test_table.iloc[0].sort_values(ascending = False)"
   ]
  },
  {
   "cell_type": "markdown",
   "id": "2756279b",
   "metadata": {},
   "source": [
    "**Formula:** <br>\n",
    "`(TP + TN) / (TP + FP + FN + TP)`\n",
    "\n",
    "**Results:**\n",
    "- The `Randomly Sampled` data ranked the highest, followed by `ADASYN`, `SMOTE` and `SMOTEENN`.\n",
    "\n",
    "**Explanation:**\n",
    "- A higher ratio indicates that the method of sampling results in a more accurate model that yields a higher fraction of correct predictions.\n",
    "- However, this may be misleading.\n",
    "- A model may be trained on an imbalanced dataset with many negatieve values, and may still achieve a high accuracy value, due to the large proportion of actual negative values (TN) in the test data.\n",
    "- This explains why the model generated from random sampling has achieved high accuracy.\n",
    "- Hence, other metrics should also be considered."
   ]
  },
  {
   "cell_type": "markdown",
   "id": "d9f590f9",
   "metadata": {},
   "source": [
    "## Precision"
   ]
  },
  {
   "cell_type": "code",
   "execution_count": 42,
   "id": "88938e98",
   "metadata": {},
   "outputs": [
    {
     "data": {
      "text/plain": [
       "ADASYN             0.155251\n",
       "SMOTE              0.147321\n",
       "SMOTEENN           0.147321\n",
       "Random Sampling    0.000000\n",
       "Name: Precision, dtype: float64"
      ]
     },
     "execution_count": 42,
     "metadata": {},
     "output_type": "execute_result"
    }
   ],
   "source": [
    "test_table.iloc[1].sort_values(ascending = False)"
   ]
  },
  {
   "cell_type": "markdown",
   "id": "3b168514",
   "metadata": {},
   "source": [
    "**Formula:**\n",
    "`TP/(TP + FP)`\n",
    "\n",
    "**Results**\n",
    "- `ADASYN` had the highest value, followed by `SMOTE` and `SMOTEENN`, and finally `Random Sampling`.\n",
    "\n",
    "**Explanation:**\n",
    "- Precision measures the proportion of people predicted to have a stroke, that would actually get a stroke\n",
    "- There should be an increased focus on Precision if wer want to minimise False Positives (People wrongly predicted to have stroke)"
   ]
  },
  {
   "cell_type": "markdown",
   "id": "80648afc",
   "metadata": {},
   "source": [
    "## Sensitivity"
   ]
  },
  {
   "cell_type": "code",
   "execution_count": 43,
   "id": "b20caded",
   "metadata": {},
   "outputs": [
    {
     "data": {
      "text/plain": [
       "ADASYN             0.548387\n",
       "SMOTE              0.532258\n",
       "SMOTEENN           0.532258\n",
       "Random Sampling    0.000000\n",
       "Name: Sensitivity, dtype: float64"
      ]
     },
     "execution_count": 43,
     "metadata": {},
     "output_type": "execute_result"
    }
   ],
   "source": [
    "test_table.iloc[2].sort_values(ascending = False)"
   ]
  },
  {
   "cell_type": "markdown",
   "id": "2fce3a68",
   "metadata": {},
   "source": [
    "**Formula:** <br>\n",
    "`TP/(TP + FN)`\n",
    "\n",
    "**Results:**\n",
    "- `SMOTE`, `SMOTEENN`, `ADASYN` fared similarly. However, the `randomly sampling` dataset had a Sensitivity of 0.\n",
    "\n",
    "**Explanation:**\n",
    "- Also known as recall\n",
    "- Measures the fraction of people correctly predicted to get a stroke, out of all people that would get a stroke.\n",
    "- A higher value indicates a lower amount of False Negatives, while a lower value indicates a higher amount of False Negatives (proportion of people who were going to get a stroke that were not predicted)\n",
    "- Given the detrimental effects of stroke on one's lifestyle, this metric should be seriously considered to avoid cases where people who would suffer from a stroke are incorrectly predicted."
   ]
  },
  {
   "cell_type": "markdown",
   "id": "3f3902c5",
   "metadata": {},
   "source": [
    "## Specificity"
   ]
  },
  {
   "cell_type": "code",
   "execution_count": 44,
   "id": "df32e146",
   "metadata": {},
   "outputs": [
    {
     "data": {
      "text/plain": [
       "Random Sampling    1.000000\n",
       "ADASYN             0.807292\n",
       "SMOTE              0.801042\n",
       "SMOTEENN           0.801042\n",
       "Name: Specificity, dtype: float64"
      ]
     },
     "execution_count": 44,
     "metadata": {},
     "output_type": "execute_result"
    }
   ],
   "source": [
    "test_table.iloc[3].sort_values(ascending = False)"
   ]
  },
  {
   "cell_type": "markdown",
   "id": "ffc2480a",
   "metadata": {},
   "source": [
    "**Formula:** <br>\n",
    "`TN/(TN + TP)`\n",
    "\n",
    "**Results:**\n",
    "- `Randomly Sampling` data had the highest value, followed by `ADASYN`, then `SMOTE` and `SMOTEEN`.\n",
    "\n",
    "**Explanation:**\n",
    "- Also known as True Negative Rate\n",
    "- Exact opposite of recall\n",
    "- Tells us what proportion of people that were correctly predicted to NOT suffer a stroke in the future.\n",
    "- Randomly Sampled data likely had high values due to its similarly imbalanced proportion with the test data, favouring no stroke."
   ]
  },
  {
   "cell_type": "markdown",
   "id": "60e6aba3",
   "metadata": {},
   "source": [
    "## F1 Score"
   ]
  },
  {
   "cell_type": "code",
   "execution_count": 45,
   "id": "fb44f591",
   "metadata": {},
   "outputs": [
    {
     "data": {
      "text/plain": [
       "ADASYN             0.241993\n",
       "SMOTE              0.230769\n",
       "SMOTEENN           0.230769\n",
       "Random Sampling    0.000000\n",
       "Name: F1-Score, dtype: float64"
      ]
     },
     "execution_count": 45,
     "metadata": {},
     "output_type": "execute_result"
    }
   ],
   "source": [
    "test_table.iloc[4].sort_values(ascending = False)"
   ]
  },
  {
   "cell_type": "markdown",
   "id": "2572278d",
   "metadata": {},
   "source": [
    "**Formula:** <br>\n",
    "`2* (Precision*Recall)/(Precision + Recall)`\n",
    "\n",
    "**Results**\n",
    "- `ADASYN` had the highest value, followed by `SMOTE` and `SMOTEENN`, and finally `Random Sampling`.\n",
    "\n",
    "**Explanation:**\n",
    "- Considers and represents both precision and recall\n",
    "- Good F1 score means that we have low False Positives and low False Negatives."
   ]
  },
  {
   "cell_type": "markdown",
   "id": "951b6d9a",
   "metadata": {},
   "source": [
    "## Conclusion"
   ]
  },
  {
   "cell_type": "markdown",
   "id": "b4ed20a7",
   "metadata": {},
   "source": [
    "Among the sampling methods used, ADASYN has the highest value for Sensitivity, Precision and F1-Score, and the second highest for Accuracy and Specificity. Thus, we conclude from our results that ADASYN is the most effective sampling method among those used in training a reliable Logistic Regression Model."
   ]
  },
  {
   "cell_type": "markdown",
   "id": "db5963d2",
   "metadata": {},
   "source": [
    "### References\n",
    "https://machinelearningmastery.com/logistic-regression-for-machine-learning/\n",
    "https://www.analyticsvidhya.com/blog/2020/11/popular-classification-models-for-machine-learning/\n",
    "https://www.analyticsvidhya.com/blog/2021/07/an-introduction-to-logistic-regression/\n",
    "https://www.analyticsvidhya.com/blog/2020/12/decluttering-the-performance-measures-of-classification-models/\n",
    "https://www.analyticsvidhya.com/blog/2021/07/metrics-to-evaluate-your-classification-model-to-take-the-right-decisions/\n",
    "https://www.analyticsvidhya.com/blog/2020/10/how-to-choose-evaluation-metrics-for-classification-model/\n",
    "https://wiki.pathmind.com/accuracy-precision-recall-f1#:~:text=That%20is%2C%20a%20good%20F1,total%20failure%20when%20it's%200%20.\n",
    "https://neptune.ai/blog/evaluation-metrics-binary-classification\n",
    "https://medium.com/@MohammedS/performance-metrics-for-classification-problems-in-machine-learning-part-i-b085d432082b"
   ]
  }
 ],
 "metadata": {
  "kernelspec": {
   "display_name": "Python 3 (ipykernel)",
   "language": "python",
   "name": "python3"
  },
  "language_info": {
   "codemirror_mode": {
    "name": "ipython",
    "version": 3
   },
   "file_extension": ".py",
   "mimetype": "text/x-python",
   "name": "python",
   "nbconvert_exporter": "python",
   "pygments_lexer": "ipython3",
   "version": "3.9.7"
  }
 },
 "nbformat": 4,
 "nbformat_minor": 5
}
